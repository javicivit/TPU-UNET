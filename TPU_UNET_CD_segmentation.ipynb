{
  "nbformat": 4,
  "nbformat_minor": 0,
  "metadata": {
    "colab": {
      "name": "TPU UNET CD segmentation.ipynb",
      "provenance": [],
      "collapsed_sections": [],
      "toc_visible": true,
      "machine_shape": "hm",
      "include_colab_link": true
    },
    "kernelspec": {
      "name": "python3",
      "display_name": "Python 3"
    },
    "widgets": {
      "application/vnd.jupyter.widget-state+json": {
        "a18551e33a0940a890cae21b81a23071": {
          "model_module": "@jupyter-widgets/controls",
          "model_name": "HBoxModel",
          "state": {
            "_view_name": "HBoxView",
            "_dom_classes": [],
            "_model_name": "HBoxModel",
            "_view_module": "@jupyter-widgets/controls",
            "_model_module_version": "1.5.0",
            "_view_count": null,
            "_view_module_version": "1.5.0",
            "box_style": "",
            "layout": "IPY_MODEL_434064c6b8e54a06acbb226e4746d766",
            "_model_module": "@jupyter-widgets/controls",
            "children": [
              "IPY_MODEL_426bed3f06b148e7b620a2b2e28c2d31",
              "IPY_MODEL_a4f378f7c5f74a14941369b8059882c8"
            ]
          }
        },
        "434064c6b8e54a06acbb226e4746d766": {
          "model_module": "@jupyter-widgets/base",
          "model_name": "LayoutModel",
          "state": {
            "_view_name": "LayoutView",
            "grid_template_rows": null,
            "right": null,
            "justify_content": null,
            "_view_module": "@jupyter-widgets/base",
            "overflow": null,
            "_model_module_version": "1.2.0",
            "_view_count": null,
            "flex_flow": null,
            "width": null,
            "min_width": null,
            "border": null,
            "align_items": null,
            "bottom": null,
            "_model_module": "@jupyter-widgets/base",
            "top": null,
            "grid_column": null,
            "overflow_y": null,
            "overflow_x": null,
            "grid_auto_flow": null,
            "grid_area": null,
            "grid_template_columns": null,
            "flex": null,
            "_model_name": "LayoutModel",
            "justify_items": null,
            "grid_row": null,
            "max_height": null,
            "align_content": null,
            "visibility": null,
            "align_self": null,
            "height": null,
            "min_height": null,
            "padding": null,
            "grid_auto_rows": null,
            "grid_gap": null,
            "max_width": null,
            "order": null,
            "_view_module_version": "1.2.0",
            "grid_template_areas": null,
            "object_position": null,
            "object_fit": null,
            "grid_auto_columns": null,
            "margin": null,
            "display": null,
            "left": null
          }
        },
        "426bed3f06b148e7b620a2b2e28c2d31": {
          "model_module": "@jupyter-widgets/controls",
          "model_name": "FloatProgressModel",
          "state": {
            "_view_name": "ProgressView",
            "style": "IPY_MODEL_ea29f9e7994142df8b7b339e8385ca75",
            "_dom_classes": [],
            "description": "100%",
            "_model_name": "FloatProgressModel",
            "bar_style": "success",
            "max": 349,
            "_view_module": "@jupyter-widgets/controls",
            "_model_module_version": "1.5.0",
            "value": 349,
            "_view_count": null,
            "_view_module_version": "1.5.0",
            "orientation": "horizontal",
            "min": 0,
            "description_tooltip": null,
            "_model_module": "@jupyter-widgets/controls",
            "layout": "IPY_MODEL_de3146fb821e46d2ba4a8bfe1ab0e6b4"
          }
        },
        "a4f378f7c5f74a14941369b8059882c8": {
          "model_module": "@jupyter-widgets/controls",
          "model_name": "HTMLModel",
          "state": {
            "_view_name": "HTMLView",
            "style": "IPY_MODEL_eef2493029974ff8ac7ada01becf34df",
            "_dom_classes": [],
            "description": "",
            "_model_name": "HTMLModel",
            "placeholder": "​",
            "_view_module": "@jupyter-widgets/controls",
            "_model_module_version": "1.5.0",
            "value": " 349/349 [00:24&lt;00:00, 14.14it/s]",
            "_view_count": null,
            "_view_module_version": "1.5.0",
            "description_tooltip": null,
            "_model_module": "@jupyter-widgets/controls",
            "layout": "IPY_MODEL_49937f4107c440f7a7bca66936efbe0e"
          }
        },
        "ea29f9e7994142df8b7b339e8385ca75": {
          "model_module": "@jupyter-widgets/controls",
          "model_name": "ProgressStyleModel",
          "state": {
            "_view_name": "StyleView",
            "_model_name": "ProgressStyleModel",
            "description_width": "initial",
            "_view_module": "@jupyter-widgets/base",
            "_model_module_version": "1.5.0",
            "_view_count": null,
            "_view_module_version": "1.2.0",
            "bar_color": null,
            "_model_module": "@jupyter-widgets/controls"
          }
        },
        "de3146fb821e46d2ba4a8bfe1ab0e6b4": {
          "model_module": "@jupyter-widgets/base",
          "model_name": "LayoutModel",
          "state": {
            "_view_name": "LayoutView",
            "grid_template_rows": null,
            "right": null,
            "justify_content": null,
            "_view_module": "@jupyter-widgets/base",
            "overflow": null,
            "_model_module_version": "1.2.0",
            "_view_count": null,
            "flex_flow": null,
            "width": null,
            "min_width": null,
            "border": null,
            "align_items": null,
            "bottom": null,
            "_model_module": "@jupyter-widgets/base",
            "top": null,
            "grid_column": null,
            "overflow_y": null,
            "overflow_x": null,
            "grid_auto_flow": null,
            "grid_area": null,
            "grid_template_columns": null,
            "flex": null,
            "_model_name": "LayoutModel",
            "justify_items": null,
            "grid_row": null,
            "max_height": null,
            "align_content": null,
            "visibility": null,
            "align_self": null,
            "height": null,
            "min_height": null,
            "padding": null,
            "grid_auto_rows": null,
            "grid_gap": null,
            "max_width": null,
            "order": null,
            "_view_module_version": "1.2.0",
            "grid_template_areas": null,
            "object_position": null,
            "object_fit": null,
            "grid_auto_columns": null,
            "margin": null,
            "display": null,
            "left": null
          }
        },
        "eef2493029974ff8ac7ada01becf34df": {
          "model_module": "@jupyter-widgets/controls",
          "model_name": "DescriptionStyleModel",
          "state": {
            "_view_name": "StyleView",
            "_model_name": "DescriptionStyleModel",
            "description_width": "",
            "_view_module": "@jupyter-widgets/base",
            "_model_module_version": "1.5.0",
            "_view_count": null,
            "_view_module_version": "1.2.0",
            "_model_module": "@jupyter-widgets/controls"
          }
        },
        "49937f4107c440f7a7bca66936efbe0e": {
          "model_module": "@jupyter-widgets/base",
          "model_name": "LayoutModel",
          "state": {
            "_view_name": "LayoutView",
            "grid_template_rows": null,
            "right": null,
            "justify_content": null,
            "_view_module": "@jupyter-widgets/base",
            "overflow": null,
            "_model_module_version": "1.2.0",
            "_view_count": null,
            "flex_flow": null,
            "width": null,
            "min_width": null,
            "border": null,
            "align_items": null,
            "bottom": null,
            "_model_module": "@jupyter-widgets/base",
            "top": null,
            "grid_column": null,
            "overflow_y": null,
            "overflow_x": null,
            "grid_auto_flow": null,
            "grid_area": null,
            "grid_template_columns": null,
            "flex": null,
            "_model_name": "LayoutModel",
            "justify_items": null,
            "grid_row": null,
            "max_height": null,
            "align_content": null,
            "visibility": null,
            "align_self": null,
            "height": null,
            "min_height": null,
            "padding": null,
            "grid_auto_rows": null,
            "grid_gap": null,
            "max_width": null,
            "order": null,
            "_view_module_version": "1.2.0",
            "grid_template_areas": null,
            "object_position": null,
            "object_fit": null,
            "grid_auto_columns": null,
            "margin": null,
            "display": null,
            "left": null
          }
        },
        "7a9dc4a098e848d7992a942348b1f805": {
          "model_module": "@jupyter-widgets/controls",
          "model_name": "HBoxModel",
          "state": {
            "_view_name": "HBoxView",
            "_dom_classes": [],
            "_model_name": "HBoxModel",
            "_view_module": "@jupyter-widgets/controls",
            "_model_module_version": "1.5.0",
            "_view_count": null,
            "_view_module_version": "1.5.0",
            "box_style": "",
            "layout": "IPY_MODEL_46e969a9648f49298d0b8a80f2369239",
            "_model_module": "@jupyter-widgets/controls",
            "children": [
              "IPY_MODEL_f0919d835d48442f8a398d63bd2acdb3",
              "IPY_MODEL_1c6307a7cf004fbf905c9b49b73b40bf"
            ]
          }
        },
        "46e969a9648f49298d0b8a80f2369239": {
          "model_module": "@jupyter-widgets/base",
          "model_name": "LayoutModel",
          "state": {
            "_view_name": "LayoutView",
            "grid_template_rows": null,
            "right": null,
            "justify_content": null,
            "_view_module": "@jupyter-widgets/base",
            "overflow": null,
            "_model_module_version": "1.2.0",
            "_view_count": null,
            "flex_flow": null,
            "width": null,
            "min_width": null,
            "border": null,
            "align_items": null,
            "bottom": null,
            "_model_module": "@jupyter-widgets/base",
            "top": null,
            "grid_column": null,
            "overflow_y": null,
            "overflow_x": null,
            "grid_auto_flow": null,
            "grid_area": null,
            "grid_template_columns": null,
            "flex": null,
            "_model_name": "LayoutModel",
            "justify_items": null,
            "grid_row": null,
            "max_height": null,
            "align_content": null,
            "visibility": null,
            "align_self": null,
            "height": null,
            "min_height": null,
            "padding": null,
            "grid_auto_rows": null,
            "grid_gap": null,
            "max_width": null,
            "order": null,
            "_view_module_version": "1.2.0",
            "grid_template_areas": null,
            "object_position": null,
            "object_fit": null,
            "grid_auto_columns": null,
            "margin": null,
            "display": null,
            "left": null
          }
        },
        "f0919d835d48442f8a398d63bd2acdb3": {
          "model_module": "@jupyter-widgets/controls",
          "model_name": "FloatProgressModel",
          "state": {
            "_view_name": "ProgressView",
            "style": "IPY_MODEL_3bc18935c0ff403e9d3ca798b67800bf",
            "_dom_classes": [],
            "description": "100%",
            "_model_name": "FloatProgressModel",
            "bar_style": "success",
            "max": 119,
            "_view_module": "@jupyter-widgets/controls",
            "_model_module_version": "1.5.0",
            "value": 119,
            "_view_count": null,
            "_view_module_version": "1.5.0",
            "orientation": "horizontal",
            "min": 0,
            "description_tooltip": null,
            "_model_module": "@jupyter-widgets/controls",
            "layout": "IPY_MODEL_47c7dacd1a794120b186dd551309f93b"
          }
        },
        "1c6307a7cf004fbf905c9b49b73b40bf": {
          "model_module": "@jupyter-widgets/controls",
          "model_name": "HTMLModel",
          "state": {
            "_view_name": "HTMLView",
            "style": "IPY_MODEL_6932e5a2088c40c3971586f7307a3c3f",
            "_dom_classes": [],
            "description": "",
            "_model_name": "HTMLModel",
            "placeholder": "​",
            "_view_module": "@jupyter-widgets/controls",
            "_model_module_version": "1.5.0",
            "value": " 119/119 [00:05&lt;00:00, 23.35it/s]",
            "_view_count": null,
            "_view_module_version": "1.5.0",
            "description_tooltip": null,
            "_model_module": "@jupyter-widgets/controls",
            "layout": "IPY_MODEL_e3f56a3542e64fe39b06ebc47e905499"
          }
        },
        "3bc18935c0ff403e9d3ca798b67800bf": {
          "model_module": "@jupyter-widgets/controls",
          "model_name": "ProgressStyleModel",
          "state": {
            "_view_name": "StyleView",
            "_model_name": "ProgressStyleModel",
            "description_width": "initial",
            "_view_module": "@jupyter-widgets/base",
            "_model_module_version": "1.5.0",
            "_view_count": null,
            "_view_module_version": "1.2.0",
            "bar_color": null,
            "_model_module": "@jupyter-widgets/controls"
          }
        },
        "47c7dacd1a794120b186dd551309f93b": {
          "model_module": "@jupyter-widgets/base",
          "model_name": "LayoutModel",
          "state": {
            "_view_name": "LayoutView",
            "grid_template_rows": null,
            "right": null,
            "justify_content": null,
            "_view_module": "@jupyter-widgets/base",
            "overflow": null,
            "_model_module_version": "1.2.0",
            "_view_count": null,
            "flex_flow": null,
            "width": null,
            "min_width": null,
            "border": null,
            "align_items": null,
            "bottom": null,
            "_model_module": "@jupyter-widgets/base",
            "top": null,
            "grid_column": null,
            "overflow_y": null,
            "overflow_x": null,
            "grid_auto_flow": null,
            "grid_area": null,
            "grid_template_columns": null,
            "flex": null,
            "_model_name": "LayoutModel",
            "justify_items": null,
            "grid_row": null,
            "max_height": null,
            "align_content": null,
            "visibility": null,
            "align_self": null,
            "height": null,
            "min_height": null,
            "padding": null,
            "grid_auto_rows": null,
            "grid_gap": null,
            "max_width": null,
            "order": null,
            "_view_module_version": "1.2.0",
            "grid_template_areas": null,
            "object_position": null,
            "object_fit": null,
            "grid_auto_columns": null,
            "margin": null,
            "display": null,
            "left": null
          }
        },
        "6932e5a2088c40c3971586f7307a3c3f": {
          "model_module": "@jupyter-widgets/controls",
          "model_name": "DescriptionStyleModel",
          "state": {
            "_view_name": "StyleView",
            "_model_name": "DescriptionStyleModel",
            "description_width": "",
            "_view_module": "@jupyter-widgets/base",
            "_model_module_version": "1.5.0",
            "_view_count": null,
            "_view_module_version": "1.2.0",
            "_model_module": "@jupyter-widgets/controls"
          }
        },
        "e3f56a3542e64fe39b06ebc47e905499": {
          "model_module": "@jupyter-widgets/base",
          "model_name": "LayoutModel",
          "state": {
            "_view_name": "LayoutView",
            "grid_template_rows": null,
            "right": null,
            "justify_content": null,
            "_view_module": "@jupyter-widgets/base",
            "overflow": null,
            "_model_module_version": "1.2.0",
            "_view_count": null,
            "flex_flow": null,
            "width": null,
            "min_width": null,
            "border": null,
            "align_items": null,
            "bottom": null,
            "_model_module": "@jupyter-widgets/base",
            "top": null,
            "grid_column": null,
            "overflow_y": null,
            "overflow_x": null,
            "grid_auto_flow": null,
            "grid_area": null,
            "grid_template_columns": null,
            "flex": null,
            "_model_name": "LayoutModel",
            "justify_items": null,
            "grid_row": null,
            "max_height": null,
            "align_content": null,
            "visibility": null,
            "align_self": null,
            "height": null,
            "min_height": null,
            "padding": null,
            "grid_auto_rows": null,
            "grid_gap": null,
            "max_width": null,
            "order": null,
            "_view_module_version": "1.2.0",
            "grid_template_areas": null,
            "object_position": null,
            "object_fit": null,
            "grid_auto_columns": null,
            "margin": null,
            "display": null,
            "left": null
          }
        },
        "549d0ac9cf16461b8f66cab2f0640392": {
          "model_module": "@jupyter-widgets/controls",
          "model_name": "HBoxModel",
          "state": {
            "_view_name": "HBoxView",
            "_dom_classes": [],
            "_model_name": "HBoxModel",
            "_view_module": "@jupyter-widgets/controls",
            "_model_module_version": "1.5.0",
            "_view_count": null,
            "_view_module_version": "1.5.0",
            "box_style": "",
            "layout": "IPY_MODEL_91553bfe5de6448eb8d0cb97140058b1",
            "_model_module": "@jupyter-widgets/controls",
            "children": [
              "IPY_MODEL_5a6889bb9e6e4ee8934f467a2dd8108d",
              "IPY_MODEL_8383017419c1402cb957dccd9805db42"
            ]
          }
        },
        "91553bfe5de6448eb8d0cb97140058b1": {
          "model_module": "@jupyter-widgets/base",
          "model_name": "LayoutModel",
          "state": {
            "_view_name": "LayoutView",
            "grid_template_rows": null,
            "right": null,
            "justify_content": null,
            "_view_module": "@jupyter-widgets/base",
            "overflow": null,
            "_model_module_version": "1.2.0",
            "_view_count": null,
            "flex_flow": null,
            "width": null,
            "min_width": null,
            "border": null,
            "align_items": null,
            "bottom": null,
            "_model_module": "@jupyter-widgets/base",
            "top": null,
            "grid_column": null,
            "overflow_y": null,
            "overflow_x": null,
            "grid_auto_flow": null,
            "grid_area": null,
            "grid_template_columns": null,
            "flex": null,
            "_model_name": "LayoutModel",
            "justify_items": null,
            "grid_row": null,
            "max_height": null,
            "align_content": null,
            "visibility": null,
            "align_self": null,
            "height": null,
            "min_height": null,
            "padding": null,
            "grid_auto_rows": null,
            "grid_gap": null,
            "max_width": null,
            "order": null,
            "_view_module_version": "1.2.0",
            "grid_template_areas": null,
            "object_position": null,
            "object_fit": null,
            "grid_auto_columns": null,
            "margin": null,
            "display": null,
            "left": null
          }
        },
        "5a6889bb9e6e4ee8934f467a2dd8108d": {
          "model_module": "@jupyter-widgets/controls",
          "model_name": "FloatProgressModel",
          "state": {
            "_view_name": "ProgressView",
            "style": "IPY_MODEL_eed15ce79cc24af3a655035d804b8627",
            "_dom_classes": [],
            "description": "100%",
            "_model_name": "FloatProgressModel",
            "bar_style": "success",
            "max": 112,
            "_view_module": "@jupyter-widgets/controls",
            "_model_module_version": "1.5.0",
            "value": 112,
            "_view_count": null,
            "_view_module_version": "1.5.0",
            "orientation": "horizontal",
            "min": 0,
            "description_tooltip": null,
            "_model_module": "@jupyter-widgets/controls",
            "layout": "IPY_MODEL_4513a75fd83049f6bf5bba5473a5f4e3"
          }
        },
        "8383017419c1402cb957dccd9805db42": {
          "model_module": "@jupyter-widgets/controls",
          "model_name": "HTMLModel",
          "state": {
            "_view_name": "HTMLView",
            "style": "IPY_MODEL_bf3ae128d8124f3eae993a1e33dcbc29",
            "_dom_classes": [],
            "description": "",
            "_model_name": "HTMLModel",
            "placeholder": "​",
            "_view_module": "@jupyter-widgets/controls",
            "_model_module_version": "1.5.0",
            "value": " 112/112 [00:00&lt;00:00, 1392.08it/s]",
            "_view_count": null,
            "_view_module_version": "1.5.0",
            "description_tooltip": null,
            "_model_module": "@jupyter-widgets/controls",
            "layout": "IPY_MODEL_16217d3d86ba40598494ae3e617af5fb"
          }
        },
        "eed15ce79cc24af3a655035d804b8627": {
          "model_module": "@jupyter-widgets/controls",
          "model_name": "ProgressStyleModel",
          "state": {
            "_view_name": "StyleView",
            "_model_name": "ProgressStyleModel",
            "description_width": "initial",
            "_view_module": "@jupyter-widgets/base",
            "_model_module_version": "1.5.0",
            "_view_count": null,
            "_view_module_version": "1.2.0",
            "bar_color": null,
            "_model_module": "@jupyter-widgets/controls"
          }
        },
        "4513a75fd83049f6bf5bba5473a5f4e3": {
          "model_module": "@jupyter-widgets/base",
          "model_name": "LayoutModel",
          "state": {
            "_view_name": "LayoutView",
            "grid_template_rows": null,
            "right": null,
            "justify_content": null,
            "_view_module": "@jupyter-widgets/base",
            "overflow": null,
            "_model_module_version": "1.2.0",
            "_view_count": null,
            "flex_flow": null,
            "width": null,
            "min_width": null,
            "border": null,
            "align_items": null,
            "bottom": null,
            "_model_module": "@jupyter-widgets/base",
            "top": null,
            "grid_column": null,
            "overflow_y": null,
            "overflow_x": null,
            "grid_auto_flow": null,
            "grid_area": null,
            "grid_template_columns": null,
            "flex": null,
            "_model_name": "LayoutModel",
            "justify_items": null,
            "grid_row": null,
            "max_height": null,
            "align_content": null,
            "visibility": null,
            "align_self": null,
            "height": null,
            "min_height": null,
            "padding": null,
            "grid_auto_rows": null,
            "grid_gap": null,
            "max_width": null,
            "order": null,
            "_view_module_version": "1.2.0",
            "grid_template_areas": null,
            "object_position": null,
            "object_fit": null,
            "grid_auto_columns": null,
            "margin": null,
            "display": null,
            "left": null
          }
        },
        "bf3ae128d8124f3eae993a1e33dcbc29": {
          "model_module": "@jupyter-widgets/controls",
          "model_name": "DescriptionStyleModel",
          "state": {
            "_view_name": "StyleView",
            "_model_name": "DescriptionStyleModel",
            "description_width": "",
            "_view_module": "@jupyter-widgets/base",
            "_model_module_version": "1.5.0",
            "_view_count": null,
            "_view_module_version": "1.2.0",
            "_model_module": "@jupyter-widgets/controls"
          }
        },
        "16217d3d86ba40598494ae3e617af5fb": {
          "model_module": "@jupyter-widgets/base",
          "model_name": "LayoutModel",
          "state": {
            "_view_name": "LayoutView",
            "grid_template_rows": null,
            "right": null,
            "justify_content": null,
            "_view_module": "@jupyter-widgets/base",
            "overflow": null,
            "_model_module_version": "1.2.0",
            "_view_count": null,
            "flex_flow": null,
            "width": null,
            "min_width": null,
            "border": null,
            "align_items": null,
            "bottom": null,
            "_model_module": "@jupyter-widgets/base",
            "top": null,
            "grid_column": null,
            "overflow_y": null,
            "overflow_x": null,
            "grid_auto_flow": null,
            "grid_area": null,
            "grid_template_columns": null,
            "flex": null,
            "_model_name": "LayoutModel",
            "justify_items": null,
            "grid_row": null,
            "max_height": null,
            "align_content": null,
            "visibility": null,
            "align_self": null,
            "height": null,
            "min_height": null,
            "padding": null,
            "grid_auto_rows": null,
            "grid_gap": null,
            "max_width": null,
            "order": null,
            "_view_module_version": "1.2.0",
            "grid_template_areas": null,
            "object_position": null,
            "object_fit": null,
            "grid_auto_columns": null,
            "margin": null,
            "display": null,
            "left": null
          }
        },
        "94eeb5e310704f0faeeb6f2909f5e577": {
          "model_module": "@jupyter-widgets/controls",
          "model_name": "HBoxModel",
          "state": {
            "_view_name": "HBoxView",
            "_dom_classes": [],
            "_model_name": "HBoxModel",
            "_view_module": "@jupyter-widgets/controls",
            "_model_module_version": "1.5.0",
            "_view_count": null,
            "_view_module_version": "1.5.0",
            "box_style": "",
            "layout": "IPY_MODEL_485c21e8d1d744c4a0eea4a4a9e486bd",
            "_model_module": "@jupyter-widgets/controls",
            "children": [
              "IPY_MODEL_9d5255f2b7404686989b9c3fdb9eaae2",
              "IPY_MODEL_6eaaf08209be4f51a8704935e08facd4"
            ]
          }
        },
        "485c21e8d1d744c4a0eea4a4a9e486bd": {
          "model_module": "@jupyter-widgets/base",
          "model_name": "LayoutModel",
          "state": {
            "_view_name": "LayoutView",
            "grid_template_rows": null,
            "right": null,
            "justify_content": null,
            "_view_module": "@jupyter-widgets/base",
            "overflow": null,
            "_model_module_version": "1.2.0",
            "_view_count": null,
            "flex_flow": null,
            "width": null,
            "min_width": null,
            "border": null,
            "align_items": null,
            "bottom": null,
            "_model_module": "@jupyter-widgets/base",
            "top": null,
            "grid_column": null,
            "overflow_y": null,
            "overflow_x": null,
            "grid_auto_flow": null,
            "grid_area": null,
            "grid_template_columns": null,
            "flex": null,
            "_model_name": "LayoutModel",
            "justify_items": null,
            "grid_row": null,
            "max_height": null,
            "align_content": null,
            "visibility": null,
            "align_self": null,
            "height": null,
            "min_height": null,
            "padding": null,
            "grid_auto_rows": null,
            "grid_gap": null,
            "max_width": null,
            "order": null,
            "_view_module_version": "1.2.0",
            "grid_template_areas": null,
            "object_position": null,
            "object_fit": null,
            "grid_auto_columns": null,
            "margin": null,
            "display": null,
            "left": null
          }
        },
        "9d5255f2b7404686989b9c3fdb9eaae2": {
          "model_module": "@jupyter-widgets/controls",
          "model_name": "FloatProgressModel",
          "state": {
            "_view_name": "ProgressView",
            "style": "IPY_MODEL_f88651e8454947df964303901c032baf",
            "_dom_classes": [],
            "description": "100%",
            "_model_name": "FloatProgressModel",
            "bar_style": "success",
            "max": 112,
            "_view_module": "@jupyter-widgets/controls",
            "_model_module_version": "1.5.0",
            "value": 112,
            "_view_count": null,
            "_view_module_version": "1.5.0",
            "orientation": "horizontal",
            "min": 0,
            "description_tooltip": null,
            "_model_module": "@jupyter-widgets/controls",
            "layout": "IPY_MODEL_985e9d3cdd2a424093fd324946efe480"
          }
        },
        "6eaaf08209be4f51a8704935e08facd4": {
          "model_module": "@jupyter-widgets/controls",
          "model_name": "HTMLModel",
          "state": {
            "_view_name": "HTMLView",
            "style": "IPY_MODEL_ec9df900c66943e7bb60e15492839b8c",
            "_dom_classes": [],
            "description": "",
            "_model_name": "HTMLModel",
            "placeholder": "​",
            "_view_module": "@jupyter-widgets/controls",
            "_model_module_version": "1.5.0",
            "value": " 112/112 [00:00&lt;00:00, 494.17it/s]",
            "_view_count": null,
            "_view_module_version": "1.5.0",
            "description_tooltip": null,
            "_model_module": "@jupyter-widgets/controls",
            "layout": "IPY_MODEL_aef3fa80d4ad46b792875f14a099d853"
          }
        },
        "f88651e8454947df964303901c032baf": {
          "model_module": "@jupyter-widgets/controls",
          "model_name": "ProgressStyleModel",
          "state": {
            "_view_name": "StyleView",
            "_model_name": "ProgressStyleModel",
            "description_width": "initial",
            "_view_module": "@jupyter-widgets/base",
            "_model_module_version": "1.5.0",
            "_view_count": null,
            "_view_module_version": "1.2.0",
            "bar_color": null,
            "_model_module": "@jupyter-widgets/controls"
          }
        },
        "985e9d3cdd2a424093fd324946efe480": {
          "model_module": "@jupyter-widgets/base",
          "model_name": "LayoutModel",
          "state": {
            "_view_name": "LayoutView",
            "grid_template_rows": null,
            "right": null,
            "justify_content": null,
            "_view_module": "@jupyter-widgets/base",
            "overflow": null,
            "_model_module_version": "1.2.0",
            "_view_count": null,
            "flex_flow": null,
            "width": null,
            "min_width": null,
            "border": null,
            "align_items": null,
            "bottom": null,
            "_model_module": "@jupyter-widgets/base",
            "top": null,
            "grid_column": null,
            "overflow_y": null,
            "overflow_x": null,
            "grid_auto_flow": null,
            "grid_area": null,
            "grid_template_columns": null,
            "flex": null,
            "_model_name": "LayoutModel",
            "justify_items": null,
            "grid_row": null,
            "max_height": null,
            "align_content": null,
            "visibility": null,
            "align_self": null,
            "height": null,
            "min_height": null,
            "padding": null,
            "grid_auto_rows": null,
            "grid_gap": null,
            "max_width": null,
            "order": null,
            "_view_module_version": "1.2.0",
            "grid_template_areas": null,
            "object_position": null,
            "object_fit": null,
            "grid_auto_columns": null,
            "margin": null,
            "display": null,
            "left": null
          }
        },
        "ec9df900c66943e7bb60e15492839b8c": {
          "model_module": "@jupyter-widgets/controls",
          "model_name": "DescriptionStyleModel",
          "state": {
            "_view_name": "StyleView",
            "_model_name": "DescriptionStyleModel",
            "description_width": "",
            "_view_module": "@jupyter-widgets/base",
            "_model_module_version": "1.5.0",
            "_view_count": null,
            "_view_module_version": "1.2.0",
            "_model_module": "@jupyter-widgets/controls"
          }
        },
        "aef3fa80d4ad46b792875f14a099d853": {
          "model_module": "@jupyter-widgets/base",
          "model_name": "LayoutModel",
          "state": {
            "_view_name": "LayoutView",
            "grid_template_rows": null,
            "right": null,
            "justify_content": null,
            "_view_module": "@jupyter-widgets/base",
            "overflow": null,
            "_model_module_version": "1.2.0",
            "_view_count": null,
            "flex_flow": null,
            "width": null,
            "min_width": null,
            "border": null,
            "align_items": null,
            "bottom": null,
            "_model_module": "@jupyter-widgets/base",
            "top": null,
            "grid_column": null,
            "overflow_y": null,
            "overflow_x": null,
            "grid_auto_flow": null,
            "grid_area": null,
            "grid_template_columns": null,
            "flex": null,
            "_model_name": "LayoutModel",
            "justify_items": null,
            "grid_row": null,
            "max_height": null,
            "align_content": null,
            "visibility": null,
            "align_self": null,
            "height": null,
            "min_height": null,
            "padding": null,
            "grid_auto_rows": null,
            "grid_gap": null,
            "max_width": null,
            "order": null,
            "_view_module_version": "1.2.0",
            "grid_template_areas": null,
            "object_position": null,
            "object_fit": null,
            "grid_auto_columns": null,
            "margin": null,
            "display": null,
            "left": null
          }
        },
        "87b451d2f58d44b9953683bb58f36c50": {
          "model_module": "@jupyter-widgets/controls",
          "model_name": "HBoxModel",
          "state": {
            "_view_name": "HBoxView",
            "_dom_classes": [],
            "_model_name": "HBoxModel",
            "_view_module": "@jupyter-widgets/controls",
            "_model_module_version": "1.5.0",
            "_view_count": null,
            "_view_module_version": "1.5.0",
            "box_style": "",
            "layout": "IPY_MODEL_310e5b8d99e240cbb5ab1ac09109fd52",
            "_model_module": "@jupyter-widgets/controls",
            "children": [
              "IPY_MODEL_d6530b5f767343b5b62bbf60b9d20598",
              "IPY_MODEL_dd84f9b054e1404aac61da5d5cd8bba9"
            ]
          }
        },
        "310e5b8d99e240cbb5ab1ac09109fd52": {
          "model_module": "@jupyter-widgets/base",
          "model_name": "LayoutModel",
          "state": {
            "_view_name": "LayoutView",
            "grid_template_rows": null,
            "right": null,
            "justify_content": null,
            "_view_module": "@jupyter-widgets/base",
            "overflow": null,
            "_model_module_version": "1.2.0",
            "_view_count": null,
            "flex_flow": null,
            "width": null,
            "min_width": null,
            "border": null,
            "align_items": null,
            "bottom": null,
            "_model_module": "@jupyter-widgets/base",
            "top": null,
            "grid_column": null,
            "overflow_y": null,
            "overflow_x": null,
            "grid_auto_flow": null,
            "grid_area": null,
            "grid_template_columns": null,
            "flex": null,
            "_model_name": "LayoutModel",
            "justify_items": null,
            "grid_row": null,
            "max_height": null,
            "align_content": null,
            "visibility": null,
            "align_self": null,
            "height": null,
            "min_height": null,
            "padding": null,
            "grid_auto_rows": null,
            "grid_gap": null,
            "max_width": null,
            "order": null,
            "_view_module_version": "1.2.0",
            "grid_template_areas": null,
            "object_position": null,
            "object_fit": null,
            "grid_auto_columns": null,
            "margin": null,
            "display": null,
            "left": null
          }
        },
        "d6530b5f767343b5b62bbf60b9d20598": {
          "model_module": "@jupyter-widgets/controls",
          "model_name": "FloatProgressModel",
          "state": {
            "_view_name": "ProgressView",
            "style": "IPY_MODEL_16b7b02d1ece4061945d35f67c550702",
            "_dom_classes": [],
            "description": "100%",
            "_model_name": "FloatProgressModel",
            "bar_style": "success",
            "max": 40,
            "_view_module": "@jupyter-widgets/controls",
            "_model_module_version": "1.5.0",
            "value": 40,
            "_view_count": null,
            "_view_module_version": "1.5.0",
            "orientation": "horizontal",
            "min": 0,
            "description_tooltip": null,
            "_model_module": "@jupyter-widgets/controls",
            "layout": "IPY_MODEL_3c8fc047a5d447489cc86a15aa22178d"
          }
        },
        "dd84f9b054e1404aac61da5d5cd8bba9": {
          "model_module": "@jupyter-widgets/controls",
          "model_name": "HTMLModel",
          "state": {
            "_view_name": "HTMLView",
            "style": "IPY_MODEL_082ec3368a0d4121ae4e616ea0be32a5",
            "_dom_classes": [],
            "description": "",
            "_model_name": "HTMLModel",
            "placeholder": "​",
            "_view_module": "@jupyter-widgets/controls",
            "_model_module_version": "1.5.0",
            "value": " 40/40 [00:00&lt;00:00, 915.78it/s]",
            "_view_count": null,
            "_view_module_version": "1.5.0",
            "description_tooltip": null,
            "_model_module": "@jupyter-widgets/controls",
            "layout": "IPY_MODEL_650a5111195a4c81b5412b4bc786a246"
          }
        },
        "16b7b02d1ece4061945d35f67c550702": {
          "model_module": "@jupyter-widgets/controls",
          "model_name": "ProgressStyleModel",
          "state": {
            "_view_name": "StyleView",
            "_model_name": "ProgressStyleModel",
            "description_width": "initial",
            "_view_module": "@jupyter-widgets/base",
            "_model_module_version": "1.5.0",
            "_view_count": null,
            "_view_module_version": "1.2.0",
            "bar_color": null,
            "_model_module": "@jupyter-widgets/controls"
          }
        },
        "3c8fc047a5d447489cc86a15aa22178d": {
          "model_module": "@jupyter-widgets/base",
          "model_name": "LayoutModel",
          "state": {
            "_view_name": "LayoutView",
            "grid_template_rows": null,
            "right": null,
            "justify_content": null,
            "_view_module": "@jupyter-widgets/base",
            "overflow": null,
            "_model_module_version": "1.2.0",
            "_view_count": null,
            "flex_flow": null,
            "width": null,
            "min_width": null,
            "border": null,
            "align_items": null,
            "bottom": null,
            "_model_module": "@jupyter-widgets/base",
            "top": null,
            "grid_column": null,
            "overflow_y": null,
            "overflow_x": null,
            "grid_auto_flow": null,
            "grid_area": null,
            "grid_template_columns": null,
            "flex": null,
            "_model_name": "LayoutModel",
            "justify_items": null,
            "grid_row": null,
            "max_height": null,
            "align_content": null,
            "visibility": null,
            "align_self": null,
            "height": null,
            "min_height": null,
            "padding": null,
            "grid_auto_rows": null,
            "grid_gap": null,
            "max_width": null,
            "order": null,
            "_view_module_version": "1.2.0",
            "grid_template_areas": null,
            "object_position": null,
            "object_fit": null,
            "grid_auto_columns": null,
            "margin": null,
            "display": null,
            "left": null
          }
        },
        "082ec3368a0d4121ae4e616ea0be32a5": {
          "model_module": "@jupyter-widgets/controls",
          "model_name": "DescriptionStyleModel",
          "state": {
            "_view_name": "StyleView",
            "_model_name": "DescriptionStyleModel",
            "description_width": "",
            "_view_module": "@jupyter-widgets/base",
            "_model_module_version": "1.5.0",
            "_view_count": null,
            "_view_module_version": "1.2.0",
            "_model_module": "@jupyter-widgets/controls"
          }
        },
        "650a5111195a4c81b5412b4bc786a246": {
          "model_module": "@jupyter-widgets/base",
          "model_name": "LayoutModel",
          "state": {
            "_view_name": "LayoutView",
            "grid_template_rows": null,
            "right": null,
            "justify_content": null,
            "_view_module": "@jupyter-widgets/base",
            "overflow": null,
            "_model_module_version": "1.2.0",
            "_view_count": null,
            "flex_flow": null,
            "width": null,
            "min_width": null,
            "border": null,
            "align_items": null,
            "bottom": null,
            "_model_module": "@jupyter-widgets/base",
            "top": null,
            "grid_column": null,
            "overflow_y": null,
            "overflow_x": null,
            "grid_auto_flow": null,
            "grid_area": null,
            "grid_template_columns": null,
            "flex": null,
            "_model_name": "LayoutModel",
            "justify_items": null,
            "grid_row": null,
            "max_height": null,
            "align_content": null,
            "visibility": null,
            "align_self": null,
            "height": null,
            "min_height": null,
            "padding": null,
            "grid_auto_rows": null,
            "grid_gap": null,
            "max_width": null,
            "order": null,
            "_view_module_version": "1.2.0",
            "grid_template_areas": null,
            "object_position": null,
            "object_fit": null,
            "grid_auto_columns": null,
            "margin": null,
            "display": null,
            "left": null
          }
        },
        "5ac0de477a354ff79e5cb26c57b5eadd": {
          "model_module": "@jupyter-widgets/controls",
          "model_name": "HBoxModel",
          "state": {
            "_view_name": "HBoxView",
            "_dom_classes": [],
            "_model_name": "HBoxModel",
            "_view_module": "@jupyter-widgets/controls",
            "_model_module_version": "1.5.0",
            "_view_count": null,
            "_view_module_version": "1.5.0",
            "box_style": "",
            "layout": "IPY_MODEL_8361d05544a942ec96a748eb40d91b58",
            "_model_module": "@jupyter-widgets/controls",
            "children": [
              "IPY_MODEL_a1870a9e25b34f489dc565ac46befa1f",
              "IPY_MODEL_f8bea9357ae14806ac1559ad225a73df"
            ]
          }
        },
        "8361d05544a942ec96a748eb40d91b58": {
          "model_module": "@jupyter-widgets/base",
          "model_name": "LayoutModel",
          "state": {
            "_view_name": "LayoutView",
            "grid_template_rows": null,
            "right": null,
            "justify_content": null,
            "_view_module": "@jupyter-widgets/base",
            "overflow": null,
            "_model_module_version": "1.2.0",
            "_view_count": null,
            "flex_flow": null,
            "width": null,
            "min_width": null,
            "border": null,
            "align_items": null,
            "bottom": null,
            "_model_module": "@jupyter-widgets/base",
            "top": null,
            "grid_column": null,
            "overflow_y": null,
            "overflow_x": null,
            "grid_auto_flow": null,
            "grid_area": null,
            "grid_template_columns": null,
            "flex": null,
            "_model_name": "LayoutModel",
            "justify_items": null,
            "grid_row": null,
            "max_height": null,
            "align_content": null,
            "visibility": null,
            "align_self": null,
            "height": null,
            "min_height": null,
            "padding": null,
            "grid_auto_rows": null,
            "grid_gap": null,
            "max_width": null,
            "order": null,
            "_view_module_version": "1.2.0",
            "grid_template_areas": null,
            "object_position": null,
            "object_fit": null,
            "grid_auto_columns": null,
            "margin": null,
            "display": null,
            "left": null
          }
        },
        "a1870a9e25b34f489dc565ac46befa1f": {
          "model_module": "@jupyter-widgets/controls",
          "model_name": "FloatProgressModel",
          "state": {
            "_view_name": "ProgressView",
            "style": "IPY_MODEL_1ed19136d18d45029aaab6a0a1fdbc5b",
            "_dom_classes": [],
            "description": "100%",
            "_model_name": "FloatProgressModel",
            "bar_style": "success",
            "max": 40,
            "_view_module": "@jupyter-widgets/controls",
            "_model_module_version": "1.5.0",
            "value": 40,
            "_view_count": null,
            "_view_module_version": "1.5.0",
            "orientation": "horizontal",
            "min": 0,
            "description_tooltip": null,
            "_model_module": "@jupyter-widgets/controls",
            "layout": "IPY_MODEL_8ca58ef4ca854ec6948fe3cb2252d5f9"
          }
        },
        "f8bea9357ae14806ac1559ad225a73df": {
          "model_module": "@jupyter-widgets/controls",
          "model_name": "HTMLModel",
          "state": {
            "_view_name": "HTMLView",
            "style": "IPY_MODEL_e04677a570714d28965a9ead10afdc3a",
            "_dom_classes": [],
            "description": "",
            "_model_name": "HTMLModel",
            "placeholder": "​",
            "_view_module": "@jupyter-widgets/controls",
            "_model_module_version": "1.5.0",
            "value": " 40/40 [00:00&lt;00:00, 271.52it/s]",
            "_view_count": null,
            "_view_module_version": "1.5.0",
            "description_tooltip": null,
            "_model_module": "@jupyter-widgets/controls",
            "layout": "IPY_MODEL_7deb0e061b2e489dbfa2ca7b21f3fc18"
          }
        },
        "1ed19136d18d45029aaab6a0a1fdbc5b": {
          "model_module": "@jupyter-widgets/controls",
          "model_name": "ProgressStyleModel",
          "state": {
            "_view_name": "StyleView",
            "_model_name": "ProgressStyleModel",
            "description_width": "initial",
            "_view_module": "@jupyter-widgets/base",
            "_model_module_version": "1.5.0",
            "_view_count": null,
            "_view_module_version": "1.2.0",
            "bar_color": null,
            "_model_module": "@jupyter-widgets/controls"
          }
        },
        "8ca58ef4ca854ec6948fe3cb2252d5f9": {
          "model_module": "@jupyter-widgets/base",
          "model_name": "LayoutModel",
          "state": {
            "_view_name": "LayoutView",
            "grid_template_rows": null,
            "right": null,
            "justify_content": null,
            "_view_module": "@jupyter-widgets/base",
            "overflow": null,
            "_model_module_version": "1.2.0",
            "_view_count": null,
            "flex_flow": null,
            "width": null,
            "min_width": null,
            "border": null,
            "align_items": null,
            "bottom": null,
            "_model_module": "@jupyter-widgets/base",
            "top": null,
            "grid_column": null,
            "overflow_y": null,
            "overflow_x": null,
            "grid_auto_flow": null,
            "grid_area": null,
            "grid_template_columns": null,
            "flex": null,
            "_model_name": "LayoutModel",
            "justify_items": null,
            "grid_row": null,
            "max_height": null,
            "align_content": null,
            "visibility": null,
            "align_self": null,
            "height": null,
            "min_height": null,
            "padding": null,
            "grid_auto_rows": null,
            "grid_gap": null,
            "max_width": null,
            "order": null,
            "_view_module_version": "1.2.0",
            "grid_template_areas": null,
            "object_position": null,
            "object_fit": null,
            "grid_auto_columns": null,
            "margin": null,
            "display": null,
            "left": null
          }
        },
        "e04677a570714d28965a9ead10afdc3a": {
          "model_module": "@jupyter-widgets/controls",
          "model_name": "DescriptionStyleModel",
          "state": {
            "_view_name": "StyleView",
            "_model_name": "DescriptionStyleModel",
            "description_width": "",
            "_view_module": "@jupyter-widgets/base",
            "_model_module_version": "1.5.0",
            "_view_count": null,
            "_view_module_version": "1.2.0",
            "_model_module": "@jupyter-widgets/controls"
          }
        },
        "7deb0e061b2e489dbfa2ca7b21f3fc18": {
          "model_module": "@jupyter-widgets/base",
          "model_name": "LayoutModel",
          "state": {
            "_view_name": "LayoutView",
            "grid_template_rows": null,
            "right": null,
            "justify_content": null,
            "_view_module": "@jupyter-widgets/base",
            "overflow": null,
            "_model_module_version": "1.2.0",
            "_view_count": null,
            "flex_flow": null,
            "width": null,
            "min_width": null,
            "border": null,
            "align_items": null,
            "bottom": null,
            "_model_module": "@jupyter-widgets/base",
            "top": null,
            "grid_column": null,
            "overflow_y": null,
            "overflow_x": null,
            "grid_auto_flow": null,
            "grid_area": null,
            "grid_template_columns": null,
            "flex": null,
            "_model_name": "LayoutModel",
            "justify_items": null,
            "grid_row": null,
            "max_height": null,
            "align_content": null,
            "visibility": null,
            "align_self": null,
            "height": null,
            "min_height": null,
            "padding": null,
            "grid_auto_rows": null,
            "grid_gap": null,
            "max_width": null,
            "order": null,
            "_view_module_version": "1.2.0",
            "grid_template_areas": null,
            "object_position": null,
            "object_fit": null,
            "grid_auto_columns": null,
            "margin": null,
            "display": null,
            "left": null
          }
        },
        "aefd565bd5404eea8983b53b81afa62b": {
          "model_module": "@jupyter-widgets/controls",
          "model_name": "HBoxModel",
          "state": {
            "_view_name": "HBoxView",
            "_dom_classes": [],
            "_model_name": "HBoxModel",
            "_view_module": "@jupyter-widgets/controls",
            "_model_module_version": "1.5.0",
            "_view_count": null,
            "_view_module_version": "1.5.0",
            "box_style": "",
            "layout": "IPY_MODEL_712a26753e774150a46d7c068902aef2",
            "_model_module": "@jupyter-widgets/controls",
            "children": [
              "IPY_MODEL_9442024350da4487bd9bdd4ff4ff5074",
              "IPY_MODEL_a1ed5e81ca4e420c91f039e13a2d8a7e"
            ]
          }
        },
        "712a26753e774150a46d7c068902aef2": {
          "model_module": "@jupyter-widgets/base",
          "model_name": "LayoutModel",
          "state": {
            "_view_name": "LayoutView",
            "grid_template_rows": null,
            "right": null,
            "justify_content": null,
            "_view_module": "@jupyter-widgets/base",
            "overflow": null,
            "_model_module_version": "1.2.0",
            "_view_count": null,
            "flex_flow": null,
            "width": null,
            "min_width": null,
            "border": null,
            "align_items": null,
            "bottom": null,
            "_model_module": "@jupyter-widgets/base",
            "top": null,
            "grid_column": null,
            "overflow_y": null,
            "overflow_x": null,
            "grid_auto_flow": null,
            "grid_area": null,
            "grid_template_columns": null,
            "flex": null,
            "_model_name": "LayoutModel",
            "justify_items": null,
            "grid_row": null,
            "max_height": null,
            "align_content": null,
            "visibility": null,
            "align_self": null,
            "height": null,
            "min_height": null,
            "padding": null,
            "grid_auto_rows": null,
            "grid_gap": null,
            "max_width": null,
            "order": null,
            "_view_module_version": "1.2.0",
            "grid_template_areas": null,
            "object_position": null,
            "object_fit": null,
            "grid_auto_columns": null,
            "margin": null,
            "display": null,
            "left": null
          }
        },
        "9442024350da4487bd9bdd4ff4ff5074": {
          "model_module": "@jupyter-widgets/controls",
          "model_name": "FloatProgressModel",
          "state": {
            "_view_name": "ProgressView",
            "style": "IPY_MODEL_08eab2c2e1994a8182d20d3d8a9264e7",
            "_dom_classes": [],
            "description": "100%",
            "_model_name": "FloatProgressModel",
            "bar_style": "success",
            "max": 13,
            "_view_module": "@jupyter-widgets/controls",
            "_model_module_version": "1.5.0",
            "value": 13,
            "_view_count": null,
            "_view_module_version": "1.5.0",
            "orientation": "horizontal",
            "min": 0,
            "description_tooltip": null,
            "_model_module": "@jupyter-widgets/controls",
            "layout": "IPY_MODEL_16d533c8187c4f6db6b3e7844131a77a"
          }
        },
        "a1ed5e81ca4e420c91f039e13a2d8a7e": {
          "model_module": "@jupyter-widgets/controls",
          "model_name": "HTMLModel",
          "state": {
            "_view_name": "HTMLView",
            "style": "IPY_MODEL_4fe7ce6057c94c77a6439d638d4af06d",
            "_dom_classes": [],
            "description": "",
            "_model_name": "HTMLModel",
            "placeholder": "​",
            "_view_module": "@jupyter-widgets/controls",
            "_model_module_version": "1.5.0",
            "value": " 13/13 [00:00&lt;00:00, 414.85it/s]",
            "_view_count": null,
            "_view_module_version": "1.5.0",
            "description_tooltip": null,
            "_model_module": "@jupyter-widgets/controls",
            "layout": "IPY_MODEL_a009722d97234e769e05cd957da32e49"
          }
        },
        "08eab2c2e1994a8182d20d3d8a9264e7": {
          "model_module": "@jupyter-widgets/controls",
          "model_name": "ProgressStyleModel",
          "state": {
            "_view_name": "StyleView",
            "_model_name": "ProgressStyleModel",
            "description_width": "initial",
            "_view_module": "@jupyter-widgets/base",
            "_model_module_version": "1.5.0",
            "_view_count": null,
            "_view_module_version": "1.2.0",
            "bar_color": null,
            "_model_module": "@jupyter-widgets/controls"
          }
        },
        "16d533c8187c4f6db6b3e7844131a77a": {
          "model_module": "@jupyter-widgets/base",
          "model_name": "LayoutModel",
          "state": {
            "_view_name": "LayoutView",
            "grid_template_rows": null,
            "right": null,
            "justify_content": null,
            "_view_module": "@jupyter-widgets/base",
            "overflow": null,
            "_model_module_version": "1.2.0",
            "_view_count": null,
            "flex_flow": null,
            "width": null,
            "min_width": null,
            "border": null,
            "align_items": null,
            "bottom": null,
            "_model_module": "@jupyter-widgets/base",
            "top": null,
            "grid_column": null,
            "overflow_y": null,
            "overflow_x": null,
            "grid_auto_flow": null,
            "grid_area": null,
            "grid_template_columns": null,
            "flex": null,
            "_model_name": "LayoutModel",
            "justify_items": null,
            "grid_row": null,
            "max_height": null,
            "align_content": null,
            "visibility": null,
            "align_self": null,
            "height": null,
            "min_height": null,
            "padding": null,
            "grid_auto_rows": null,
            "grid_gap": null,
            "max_width": null,
            "order": null,
            "_view_module_version": "1.2.0",
            "grid_template_areas": null,
            "object_position": null,
            "object_fit": null,
            "grid_auto_columns": null,
            "margin": null,
            "display": null,
            "left": null
          }
        },
        "4fe7ce6057c94c77a6439d638d4af06d": {
          "model_module": "@jupyter-widgets/controls",
          "model_name": "DescriptionStyleModel",
          "state": {
            "_view_name": "StyleView",
            "_model_name": "DescriptionStyleModel",
            "description_width": "",
            "_view_module": "@jupyter-widgets/base",
            "_model_module_version": "1.5.0",
            "_view_count": null,
            "_view_module_version": "1.2.0",
            "_model_module": "@jupyter-widgets/controls"
          }
        },
        "a009722d97234e769e05cd957da32e49": {
          "model_module": "@jupyter-widgets/base",
          "model_name": "LayoutModel",
          "state": {
            "_view_name": "LayoutView",
            "grid_template_rows": null,
            "right": null,
            "justify_content": null,
            "_view_module": "@jupyter-widgets/base",
            "overflow": null,
            "_model_module_version": "1.2.0",
            "_view_count": null,
            "flex_flow": null,
            "width": null,
            "min_width": null,
            "border": null,
            "align_items": null,
            "bottom": null,
            "_model_module": "@jupyter-widgets/base",
            "top": null,
            "grid_column": null,
            "overflow_y": null,
            "overflow_x": null,
            "grid_auto_flow": null,
            "grid_area": null,
            "grid_template_columns": null,
            "flex": null,
            "_model_name": "LayoutModel",
            "justify_items": null,
            "grid_row": null,
            "max_height": null,
            "align_content": null,
            "visibility": null,
            "align_self": null,
            "height": null,
            "min_height": null,
            "padding": null,
            "grid_auto_rows": null,
            "grid_gap": null,
            "max_width": null,
            "order": null,
            "_view_module_version": "1.2.0",
            "grid_template_areas": null,
            "object_position": null,
            "object_fit": null,
            "grid_auto_columns": null,
            "margin": null,
            "display": null,
            "left": null
          }
        },
        "eff227518f874fa29017b0d5b3b464c5": {
          "model_module": "@jupyter-widgets/controls",
          "model_name": "HBoxModel",
          "state": {
            "_view_name": "HBoxView",
            "_dom_classes": [],
            "_model_name": "HBoxModel",
            "_view_module": "@jupyter-widgets/controls",
            "_model_module_version": "1.5.0",
            "_view_count": null,
            "_view_module_version": "1.5.0",
            "box_style": "",
            "layout": "IPY_MODEL_94ca8893358d408d92d87e2e22ac18b6",
            "_model_module": "@jupyter-widgets/controls",
            "children": [
              "IPY_MODEL_99d0357078d74ad6a24e6ebbfb4f4887",
              "IPY_MODEL_6d1de35f9f4d42d3aec57132a1c9cc63"
            ]
          }
        },
        "94ca8893358d408d92d87e2e22ac18b6": {
          "model_module": "@jupyter-widgets/base",
          "model_name": "LayoutModel",
          "state": {
            "_view_name": "LayoutView",
            "grid_template_rows": null,
            "right": null,
            "justify_content": null,
            "_view_module": "@jupyter-widgets/base",
            "overflow": null,
            "_model_module_version": "1.2.0",
            "_view_count": null,
            "flex_flow": null,
            "width": null,
            "min_width": null,
            "border": null,
            "align_items": null,
            "bottom": null,
            "_model_module": "@jupyter-widgets/base",
            "top": null,
            "grid_column": null,
            "overflow_y": null,
            "overflow_x": null,
            "grid_auto_flow": null,
            "grid_area": null,
            "grid_template_columns": null,
            "flex": null,
            "_model_name": "LayoutModel",
            "justify_items": null,
            "grid_row": null,
            "max_height": null,
            "align_content": null,
            "visibility": null,
            "align_self": null,
            "height": null,
            "min_height": null,
            "padding": null,
            "grid_auto_rows": null,
            "grid_gap": null,
            "max_width": null,
            "order": null,
            "_view_module_version": "1.2.0",
            "grid_template_areas": null,
            "object_position": null,
            "object_fit": null,
            "grid_auto_columns": null,
            "margin": null,
            "display": null,
            "left": null
          }
        },
        "99d0357078d74ad6a24e6ebbfb4f4887": {
          "model_module": "@jupyter-widgets/controls",
          "model_name": "FloatProgressModel",
          "state": {
            "_view_name": "ProgressView",
            "style": "IPY_MODEL_b81cf8094dad4325bd6bd9f516a1a000",
            "_dom_classes": [],
            "description": "100%",
            "_model_name": "FloatProgressModel",
            "bar_style": "success",
            "max": 13,
            "_view_module": "@jupyter-widgets/controls",
            "_model_module_version": "1.5.0",
            "value": 13,
            "_view_count": null,
            "_view_module_version": "1.5.0",
            "orientation": "horizontal",
            "min": 0,
            "description_tooltip": null,
            "_model_module": "@jupyter-widgets/controls",
            "layout": "IPY_MODEL_55312228679c460aab5a67d5daf45f74"
          }
        },
        "6d1de35f9f4d42d3aec57132a1c9cc63": {
          "model_module": "@jupyter-widgets/controls",
          "model_name": "HTMLModel",
          "state": {
            "_view_name": "HTMLView",
            "style": "IPY_MODEL_8caf6e6afd0b44a2a12e4bc1a6c04ae4",
            "_dom_classes": [],
            "description": "",
            "_model_name": "HTMLModel",
            "placeholder": "​",
            "_view_module": "@jupyter-widgets/controls",
            "_model_module_version": "1.5.0",
            "value": " 13/13 [00:00&lt;00:00, 361.05it/s]",
            "_view_count": null,
            "_view_module_version": "1.5.0",
            "description_tooltip": null,
            "_model_module": "@jupyter-widgets/controls",
            "layout": "IPY_MODEL_997ab2711bda4e2e9386a9894826937b"
          }
        },
        "b81cf8094dad4325bd6bd9f516a1a000": {
          "model_module": "@jupyter-widgets/controls",
          "model_name": "ProgressStyleModel",
          "state": {
            "_view_name": "StyleView",
            "_model_name": "ProgressStyleModel",
            "description_width": "initial",
            "_view_module": "@jupyter-widgets/base",
            "_model_module_version": "1.5.0",
            "_view_count": null,
            "_view_module_version": "1.2.0",
            "bar_color": null,
            "_model_module": "@jupyter-widgets/controls"
          }
        },
        "55312228679c460aab5a67d5daf45f74": {
          "model_module": "@jupyter-widgets/base",
          "model_name": "LayoutModel",
          "state": {
            "_view_name": "LayoutView",
            "grid_template_rows": null,
            "right": null,
            "justify_content": null,
            "_view_module": "@jupyter-widgets/base",
            "overflow": null,
            "_model_module_version": "1.2.0",
            "_view_count": null,
            "flex_flow": null,
            "width": null,
            "min_width": null,
            "border": null,
            "align_items": null,
            "bottom": null,
            "_model_module": "@jupyter-widgets/base",
            "top": null,
            "grid_column": null,
            "overflow_y": null,
            "overflow_x": null,
            "grid_auto_flow": null,
            "grid_area": null,
            "grid_template_columns": null,
            "flex": null,
            "_model_name": "LayoutModel",
            "justify_items": null,
            "grid_row": null,
            "max_height": null,
            "align_content": null,
            "visibility": null,
            "align_self": null,
            "height": null,
            "min_height": null,
            "padding": null,
            "grid_auto_rows": null,
            "grid_gap": null,
            "max_width": null,
            "order": null,
            "_view_module_version": "1.2.0",
            "grid_template_areas": null,
            "object_position": null,
            "object_fit": null,
            "grid_auto_columns": null,
            "margin": null,
            "display": null,
            "left": null
          }
        },
        "8caf6e6afd0b44a2a12e4bc1a6c04ae4": {
          "model_module": "@jupyter-widgets/controls",
          "model_name": "DescriptionStyleModel",
          "state": {
            "_view_name": "StyleView",
            "_model_name": "DescriptionStyleModel",
            "description_width": "",
            "_view_module": "@jupyter-widgets/base",
            "_model_module_version": "1.5.0",
            "_view_count": null,
            "_view_module_version": "1.2.0",
            "_model_module": "@jupyter-widgets/controls"
          }
        },
        "997ab2711bda4e2e9386a9894826937b": {
          "model_module": "@jupyter-widgets/base",
          "model_name": "LayoutModel",
          "state": {
            "_view_name": "LayoutView",
            "grid_template_rows": null,
            "right": null,
            "justify_content": null,
            "_view_module": "@jupyter-widgets/base",
            "overflow": null,
            "_model_module_version": "1.2.0",
            "_view_count": null,
            "flex_flow": null,
            "width": null,
            "min_width": null,
            "border": null,
            "align_items": null,
            "bottom": null,
            "_model_module": "@jupyter-widgets/base",
            "top": null,
            "grid_column": null,
            "overflow_y": null,
            "overflow_x": null,
            "grid_auto_flow": null,
            "grid_area": null,
            "grid_template_columns": null,
            "flex": null,
            "_model_name": "LayoutModel",
            "justify_items": null,
            "grid_row": null,
            "max_height": null,
            "align_content": null,
            "visibility": null,
            "align_self": null,
            "height": null,
            "min_height": null,
            "padding": null,
            "grid_auto_rows": null,
            "grid_gap": null,
            "max_width": null,
            "order": null,
            "_view_module_version": "1.2.0",
            "grid_template_areas": null,
            "object_position": null,
            "object_fit": null,
            "grid_auto_columns": null,
            "margin": null,
            "display": null,
            "left": null
          }
        }
      }
    },
    "accelerator": "TPU"
  },
  "cells": [
    {
      "cell_type": "markdown",
      "metadata": {
        "id": "view-in-github",
        "colab_type": "text"
      },
      "source": [
        "<a href=\"https://colab.research.google.com/github/javicivit/TPU-UNET/blob/master/TPU_UNET_CD_segmentation.ipynb\" target=\"_parent\"><img src=\"https://colab.research.google.com/assets/colab-badge.svg\" alt=\"Open In Colab\"/></a>"
      ]
    },
    {
      "cell_type": "markdown",
      "metadata": {
        "id": "Azl8XMZXwst5",
        "colab_type": "text"
      },
      "source": [
        "### Training of a modified U-Net for Optic Disc/Cup on RIM-ONE v3  & DRISHTI databases.\n",
        "\n",
        "We use publicly available RIM-ONE v3, DRISHTI and DRIONS datasets. "
      ]
    },
    {
      "cell_type": "markdown",
      "metadata": {
        "id": "66eitMLNoCFV",
        "colab_type": "text"
      },
      "source": [
        "### Training of a modified U-Net for Optic Disc/Cup on RIM-ONE v3  & DRISHTI databases.\n",
        "\n",
        "We use publicly available RIM-ONE v3, DRISHTI and DRIONS datasets. The use of multiple datasets both for training and for validation allows our system to be more independent of the capture devices than other available implementations. RIM ONE-v3, from the MIAG group of the University of La Laguna (Spain), consists of 159 fundus images which have been labeled by expert ophthalmologists for both disc and cup. DRISHTI-GS, from Aravind Eye hospital, Madurai, India consists of 101 fundus images also labeled for disc and cup. DRIONS-DB from Miguel Servet Hospital, Saragossa (Spain), consists of 110 images on which only the optic cup has been labelled.\n",
        "Fundus images and disk maskks are resized in one sted to 128x128.  The hdf versions of the Datasets can be uploaded from [Sevastopolsky's github](https://github.com/seva100/optic-nerve-cnn)\n"
      ]
    },
    {
      "cell_type": "markdown",
      "metadata": {
        "id": "uRU_Go8J4cK4",
        "colab_type": "text"
      },
      "source": [
        "# Train with RIM one and DRISHTI\n",
        "## GPU based UNET Segmentation.\n",
        "\n",
        "\n"
      ]
    },
    {
      "cell_type": "markdown",
      "metadata": {
        "id": "WzA-sEscHNZO",
        "colab_type": "text"
      },
      "source": [
        "####Lets load the data from Gdrive\n"
      ]
    },
    {
      "cell_type": "code",
      "metadata": {
        "id": "FsKfQRodfdzg",
        "colab_type": "code",
        "outputId": "28bd09b8-4487-4d95-c3ad-0857a6a42b47",
        "colab": {
          "base_uri": "https://localhost:8080/"
        }
      },
      "source": [
        "from google.colab import drive\n",
        "drive.mount('/content/gdrive')"
      ],
      "execution_count": 2,
      "outputs": [
        {
          "output_type": "stream",
          "text": [
            "Drive already mounted at /content/gdrive; to attempt to forcibly remount, call drive.mount(\"/content/gdrive\", force_remount=True).\n"
          ],
          "name": "stdout"
        }
      ]
    },
    {
      "cell_type": "code",
      "metadata": {
        "id": "1-bdE8d6h0cW",
        "colab_type": "code",
        "colab": {}
      },
      "source": [
        "#CONFIGURATION\n",
        "name='MIXCUPT6w64ir11r42'\n",
        "train=True\n",
        "Epochs=30\n",
        "preload=False\n",
        "pname='MIXCUPSQ6w64ir11r42'\n",
        "hough=False\n",
        "rams=False\n",
        "dynAug=False\n"
      ],
      "execution_count": 0,
      "outputs": []
    },
    {
      "cell_type": "code",
      "metadata": {
        "id": "Qtl_6oARf_GJ",
        "colab_type": "code",
        "colab": {}
      },
      "source": [
        "def seperate_string_number(string):\n",
        "    previous_character = string[0]\n",
        "    groups = []\n",
        "    newword = string[0]\n",
        "    for x, i in enumerate(string[1:]):\n",
        "        if i.isalpha() and previous_character.isalpha():\n",
        "            newword += i\n",
        "        elif i.isnumeric() and previous_character.isnumeric():\n",
        "            newword += i\n",
        "        else:\n",
        "            groups.append(newword)\n",
        "            newword = i\n",
        "\n",
        "        previous_character = i\n",
        "\n",
        "        if x == len(string) - 2:\n",
        "            groups.append(newword)\n",
        "            newword = ''\n",
        "    return groups\n"
      ],
      "execution_count": 0,
      "outputs": []
    },
    {
      "cell_type": "code",
      "metadata": {
        "id": "o0VwshNYyqTO",
        "colab_type": "code",
        "colab": {}
      },
      "source": [
        "conf=seperate_string_number(name)\n",
        "depth=int(conf[1])\n",
        "chan=int(conf[3])\n",
        "ir=int(conf[5])/10.0\n",
        "rand_sv=int(conf[7])\n",
        "ds=conf[0][0:3]\n",
        "zone=conf[0][3:6]"
      ],
      "execution_count": 0,
      "outputs": []
    },
    {
      "cell_type": "code",
      "metadata": {
        "id": "WuaCss4d31b1",
        "colab_type": "code",
        "outputId": "ab6072f2-4309-49e2-b198-f4bc25d799ce",
        "colab": {
          "base_uri": "https://localhost:8080/",
          "height": 34
        }
      },
      "source": [
        "print(depth,chan,ir,rand_sv,ds,zone)"
      ],
      "execution_count": 6,
      "outputs": [
        {
          "output_type": "stream",
          "text": [
            "6 64 1.1 42 MIX CUP\n"
          ],
          "name": "stdout"
        }
      ]
    },
    {
      "cell_type": "code",
      "metadata": {
        "id": "BW4CZpK5xdC9",
        "colab_type": "code",
        "colab": {}
      },
      "source": [
        "if(zone=='CUP'):\n",
        "  cup=True\n",
        "else:\n",
        "  cup=False"
      ],
      "execution_count": 0,
      "outputs": []
    },
    {
      "cell_type": "code",
      "metadata": {
        "id": "5JB54OiBx9g_",
        "colab_type": "code",
        "colab": {}
      },
      "source": [
        "mix=False\n",
        "dri=False\n",
        "rim=False\n",
        "if(ds=='MIX'):\n",
        "  mix=True\n",
        "elif(ds=='DRI'):\n",
        "  dri=True\n",
        "elif(ds=='RIM'):\n",
        "  rim=True\n",
        "else:\n",
        "  breakpoint\n"
      ],
      "execution_count": 0,
      "outputs": []
    },
    {
      "cell_type": "code",
      "metadata": {
        "id": "YC-o3PD2SPFB",
        "colab_type": "code",
        "colab": {}
      },
      "source": [
        "#!pip install --upgrade tensorflow==2.2.0-rc3"
      ],
      "execution_count": 0,
      "outputs": []
    },
    {
      "cell_type": "markdown",
      "metadata": {
        "id": "eNNJyABSdEwN",
        "colab_type": "text"
      },
      "source": [
        "Let's import the required libraries:"
      ]
    },
    {
      "cell_type": "code",
      "metadata": {
        "id": "_xV9Nn6JwIkR",
        "colab_type": "code",
        "colab": {}
      },
      "source": [
        "\n",
        "import tensorflow as tf\n",
        "\n",
        "\n",
        "import os\n",
        "import glob\n",
        "from datetime import datetime\n",
        "#import warnings\n",
        "#warnings.simplefilter('ignore')\n",
        "import scipy as sp\n",
        "import scipy.ndimage\n",
        "import numpy as np\n",
        "import pandas as pd\n",
        "import skimage\n",
        "import skimage.exposure\n",
        "import skimage.transform\n",
        "import skimage.measure\n",
        "#from sklearn.cross_validation import KFold\n",
        "from PIL import Image\n",
        "import matplotlib.pyplot as plt\n",
        "%matplotlib inline\n",
        "import cv2\n",
        "import h5py\n",
        "from tqdm import tqdm_notebook\n",
        "#import mahotas as mh\n",
        "from IPython.display import display\n",
        "#from dual_IDG import DualImageDataGenerator\n",
        "from tensorflow.keras.models import Sequential, Model\n",
        "from tensorflow.keras import layers as layers\n",
        "from tensorflow.keras.layers import Dense, Dropout, Activation, Flatten, BatchNormalization, \\\n",
        "    Conv2D, MaxPooling2D, ZeroPadding2D, Input, Embedding, LSTM,  \\\n",
        "    Lambda, UpSampling2D,concatenate,Conv2DTranspose\n",
        "from tensorflow.keras.utils import plot_model\n",
        "from tensorflow.keras.optimizers import SGD, Adam, Adagrad\n",
        "from tensorflow.keras.callbacks import ModelCheckpoint, LearningRateScheduler, ReduceLROnPlateau, CSVLogger\n",
        "from tensorflow.keras.preprocessing.image import ImageDataGenerator\n",
        "from tensorflow.keras import backend as K\n",
        "from sklearn.model_selection import train_test_split\n",
        "import math\n",
        "from skimage.transform import hough_ellipse\n",
        "from skimage.draw import ellipse_perimeter, ellipse\n",
        "from skimage.measure import  ransac, EllipseModel"
      ],
      "execution_count": 0,
      "outputs": []
    },
    {
      "cell_type": "code",
      "metadata": {
        "id": "MjSzDEK6IMHI",
        "colab_type": "code",
        "outputId": "1bd46eca-5b79-4968-baf4-95b3633e88b1",
        "colab": {
          "base_uri": "https://localhost:8080/",
          "height": 139
        }
      },
      "source": [
        "print(\"Tensorflow version \" + tf.__version__)\n",
        "if 'COLAB_TPU_ADDR'  in os.environ:\n",
        "    print(os.environ['COLAB_TPU_ADDR'])\n",
        "else:\n",
        "  print('No TPU')\n",
        "if(tf.test.is_gpu_available()):\n",
        "  gpu=True\n",
        "else:\n",
        "  gpu=False\n",
        "  print('No GPU')"
      ],
      "execution_count": 11,
      "outputs": [
        {
          "output_type": "stream",
          "text": [
            "Tensorflow version 2.2.0\n",
            "10.90.122.250:8470\n",
            "WARNING:tensorflow:From <ipython-input-11-26283c6309db>:6: is_gpu_available (from tensorflow.python.framework.test_util) is deprecated and will be removed in a future version.\n",
            "Instructions for updating:\n",
            "Use `tf.config.list_physical_devices('GPU')` instead.\n",
            "No GPU\n"
          ],
          "name": "stdout"
        }
      ]
    },
    {
      "cell_type": "markdown",
      "metadata": {
        "id": "rur-I-N28wx3",
        "colab_type": "text"
      },
      "source": [
        "Our loss function is based on dice (intersectionover union).\n",
        "We use -log(dice) as our loss function "
      ]
    },
    {
      "cell_type": "code",
      "metadata": {
        "id": "cDBXuIPfxs3X",
        "colab_type": "code",
        "colab": {}
      },
      "source": [
        "\n",
        "K.set_floatx('float32')"
      ],
      "execution_count": 0,
      "outputs": []
    },
    {
      "cell_type": "code",
      "metadata": {
        "scrolled": true,
        "id": "L3gKgtXdwsuO",
        "colab_type": "code",
        "colab": {}
      },
      "source": [
        "def dice_coef(y_true, y_pred):\n",
        "    y_true_f = K.flatten(y_true)\n",
        "    y_pred_f = K.flatten(y_pred)\n",
        "    intersection = K.sum(y_true_f * y_pred_f)\n",
        "    return (2. * intersection + K.epsilon()) / (K.sum(y_true_f) + K.sum(y_pred_f) + K.epsilon())\n",
        "  \n",
        "def dice_loss(y_true,y_pred):\n",
        "    return -dice_coef(y_true,y_pred)\n",
        "  \n",
        "def log_dice_loss(y_true, y_pred):\n",
        "    return -K.log(dice_coef(y_true, y_pred))"
      ],
      "execution_count": 0,
      "outputs": []
    },
    {
      "cell_type": "code",
      "metadata": {
        "id": "_zsYwz23RD9C",
        "colab_type": "code",
        "colab": {}
      },
      "source": [
        "def iou_loss_core(y_true, y_pred, smooth=1):\n",
        "    intersection = K.sum(K.abs(y_true * y_pred), axis=-1)\n",
        "    union = K.sum(y_true,-1) + K.sum(y_pred,-1) - intersection\n",
        "    iou = (intersection + smooth) / ( union + smooth)\n",
        "    return iou"
      ],
      "execution_count": 0,
      "outputs": []
    },
    {
      "cell_type": "markdown",
      "metadata": {
        "id": "gg0qqjkBdgST",
        "colab_type": "text"
      },
      "source": [
        "Auxiliary function to modify image brightness."
      ]
    },
    {
      "cell_type": "code",
      "metadata": {
        "id": "79Jic7wYc6mk",
        "colab_type": "code",
        "colab": {}
      },
      "source": [
        "def modify_brightness_p(img, p=1.2):\n",
        "    hsv = cv2.cvtColor(img, cv2.COLOR_BGR2HSV)\n",
        "    h, s, v = cv2.split(hsv)\n",
        "\n",
        "    lim = 1.0/p\n",
        "    v[v > lim] = 1.0\n",
        "    v[v <= lim] *= p\n",
        "    #print(np.amax(v))\n",
        "\n",
        "    final_hsv = cv2.merge((h, s, v))\n",
        "    img = cv2.cvtColor(final_hsv, cv2.COLOR_HSV2BGR).clip(min=0)\n",
        "    return img"
      ],
      "execution_count": 0,
      "outputs": []
    },
    {
      "cell_type": "markdown",
      "metadata": {
        "id": "9H3lx-WRdoN1",
        "colab_type": "text"
      },
      "source": [
        "Auxiliary funtion to shuffle to vectors in a coherent way:"
      ]
    },
    {
      "cell_type": "code",
      "metadata": {
        "id": "82FWBt7h9dGP",
        "colab_type": "code",
        "colab": {}
      },
      "source": [
        "def unison_shuffled_copies(a, b):\n",
        "    assert len(a) == len(b)\n",
        "    p = np.random.permutation(len(a))\n",
        "    return a[p], b[p]"
      ],
      "execution_count": 0,
      "outputs": []
    },
    {
      "cell_type": "markdown",
      "metadata": {
        "id": "3EzC1skrdxpa",
        "colab_type": "text"
      },
      "source": [
        "Auxiliary function to use 512 image size indexes with original images."
      ]
    },
    {
      "cell_type": "code",
      "metadata": {
        "id": "NFChKFpTU6I0",
        "colab_type": "code",
        "colab": {}
      },
      "source": [
        "def index512_resize(index,top):\n",
        "  index=index*top/512\n",
        "  return int(index)"
      ],
      "execution_count": 0,
      "outputs": []
    },
    {
      "cell_type": "markdown",
      "metadata": {
        "id": "hUQ36Cl11El7",
        "colab_type": "text"
      },
      "source": [
        "Function to convert Image set into ellipses removing extra zones also"
      ]
    },
    {
      "cell_type": "markdown",
      "metadata": {
        "id": "MG9xchH7AOxM",
        "colab_type": "text"
      },
      "source": [
        "Our data is in hdf5 (https://www.h5py.org/) format\n",
        "Train/test with  Drishti and RimONE"
      ]
    },
    {
      "cell_type": "code",
      "metadata": {
        "scrolled": true,
        "id": "w7wU3WR3wsuZ",
        "colab_type": "code",
        "colab": {}
      },
      "source": [
        "h5f1 = h5py.File(os.path.join(os.path.dirname(os.getcwd()), 'content/gdrive/My Drive', 'RIM_ONE_v3.hdf5'), 'r')"
      ],
      "execution_count": 0,
      "outputs": []
    },
    {
      "cell_type": "code",
      "metadata": {
        "id": "AZniiBsXV3pP",
        "colab_type": "code",
        "colab": {}
      },
      "source": [
        "h5f2=h5py.File(os.path.join(os.path.dirname(os.getcwd()), 'content/gdrive/My Drive', 'DRISHTI_GS.hdf5'), 'r')"
      ],
      "execution_count": 0,
      "outputs": []
    },
    {
      "cell_type": "code",
      "metadata": {
        "colab_type": "code",
        "id": "Sgu3qDaW7XZC",
        "colab": {}
      },
      "source": [
        "h5v1=h5py.File(os.path.join(os.path.dirname(os.getcwd()), 'content/gdrive/My Drive', 'DRIONS_DB.hdf5'), 'r')"
      ],
      "execution_count": 0,
      "outputs": []
    },
    {
      "cell_type": "markdown",
      "metadata": {
        "id": "yKL8-3-iwsuc",
        "colab_type": "text"
      },
      "source": [
        "### U-Net architecture\n"
      ]
    },
    {
      "cell_type": "code",
      "metadata": {
        "id": "82nCHO8WiREs",
        "colab_type": "code",
        "colab": {}
      },
      "source": [
        "'''\n",
        "U-Net: Convolutional Networks for Biomedical Image Segmentation\n",
        "(https://arxiv.org/abs/1505.04597)\n",
        "---\n",
        "img_shape: (height, width, channels)\n",
        "out_ch: number of output channels\n",
        "start_ch: number of channels of the first conv\n",
        "depth: zero indexed depth of the U-structure\n",
        "inc_rate: rate at which the conv channels will increase\n",
        "activation: activation function after convolutions\n",
        "dropout: amount of dropout in the contracting part\n",
        "batchnorm: adds Batch Normalization if true\n",
        "maxpool: use strided conv instead of maxpooling if false\n",
        "upconv: use transposed conv instead of upsamping + conv if false\n",
        "residual: add residual connections around each conv block if true\n",
        "'''\n",
        "\n",
        "def conv_block(m, dim, acti, bn, res, do=0):\n",
        "\tn = Conv2D(dim, 3, activation=acti, padding='same')(m)\n",
        "\tn = BatchNormalization()(n) if bn else n\n",
        "\tn = Dropout(do)(n) if do else n\n",
        "\tn = Conv2D(dim, 3, activation=acti, padding='same')(n)\n",
        "\tn = BatchNormalization()(n) if bn else n\n",
        "\treturn Concatenate()([m, n]) if res else n\n",
        "\n",
        "def level_block(m, dim, depth, inc, acti, do, bn, mp, up, res):\n",
        "\tif depth > 0:\n",
        "\t\tn = conv_block(m, dim, acti, bn, res)\n",
        "\t\tm = MaxPooling2D()(n) if mp else Conv2D(dim, 3, strides=2, padding='same')(n)\n",
        "\t\tm = level_block(m, int(inc*dim), depth-1, inc, acti, do, bn, mp, up, res)\n",
        "\t\tif up:\n",
        "\t\t\tm = UpSampling2D()(m)\n",
        "\t\t\tm = Conv2D(dim, 2, activation=acti, padding='same')(m)\n",
        "\t\telse:\n",
        "\t\t\tm = Conv2DTranspose(dim, 3, strides=2, activation=acti, padding='same')(m)\n",
        "\t\tn = concatenate([n, m],axis=-1)\n",
        "\t\tm = conv_block(n, dim, acti, bn, res)\n",
        "\telse:\n",
        "\t\tm = conv_block(m, dim, acti, bn, res, do)\n",
        "\treturn m\n",
        "\n",
        "def UNet(img_shape, out_ch=1, start_ch=64, depth=4, inc_rate=2., activation='relu', \n",
        "\t\t dropout=0.5, batchnorm=False, maxpool=True, upconv=True, residual=False):\n",
        "\ti = Input(shape=img_shape)\n",
        "\to = level_block(i, start_ch, depth, inc_rate, activation, dropout, batchnorm, maxpool, upconv, residual)\n",
        "\to = Conv2D(out_ch, 1, activation='sigmoid')(o)\n",
        "\treturn Model(inputs=i, outputs=o)\n"
      ],
      "execution_count": 0,
      "outputs": []
    },
    {
      "cell_type": "markdown",
      "metadata": {
        "id": "HysxXobUmqE8",
        "colab_type": "text"
      },
      "source": [
        "Change these parameters according to  the architecture . Uss Cup=True to segment the Cup and False to segment the disk."
      ]
    },
    {
      "cell_type": "code",
      "metadata": {
        "id": "BVAiDcVW-7-K",
        "colab_type": "code",
        "colab": {}
      },
      "source": [
        "img_shape=(128,128,3)"
      ],
      "execution_count": 0,
      "outputs": []
    },
    {
      "cell_type": "markdown",
      "metadata": {
        "id": "bq6QRrAFCfX0",
        "colab_type": "text"
      },
      "source": [
        "**DRISHTI RIM ONE CUP Aggressive augmentation**\n",
        "\n",
        "Accessing data, preparing train/validation sets: Resize & Prepare"
      ]
    },
    {
      "cell_type": "code",
      "metadata": {
        "id": "R_4GQ6QZC4_E",
        "colab_type": "code",
        "outputId": "7daac5ef-f19f-4376-fee0-5bee61598a74",
        "colab": {
          "base_uri": "https://localhost:8080/",
          "height": 68
        }
      },
      "source": [
        "Xori= np.asarray(h5f2['DRISHTI-GS/orig/images'])\n",
        "#print(Xori.shape)\n",
        "disc_locations =np.asarray( h5f2['DRISHTI-GS/512 px/disc_locations'])\n",
        "#Glau=h5f2['DRISHTI-GS/orig/is-ill']  #Has Glaucoma?\n",
        "FC=np.asarray(h5f2['DRISHTI-GS/512 px/file_codes'] )  #FC\n",
        "indDRI=np.arange(0,Xori.shape[0])\n",
        "bsqside=np.maximum((disc_locations[:,3]-disc_locations[:,1]),(disc_locations[:,2]-disc_locations[:,0]))\n",
        "\n",
        "isize=Xori.shape[1]\n",
        "\n",
        "if(cup):\n",
        "  #md=(np.amin(disc_locations[:])/8).astype(np.int)\n",
        "  \n",
        "  Yf = np.asarray(h5f2['DRISHTI-GS/512 px/cup'])\n",
        " \n",
        "  Xc = [Xori[i][index512_resize(disc_locations[i][0],isize):index512_resize(disc_locations[i][0]+bsqside[i],isize), index512_resize(disc_locations[i][1],isize):index512_resize(disc_locations[i][1]+bsqside[i],isize)] \n",
        "                   for i in range(len(Xori))]\n",
        "\n",
        "  Yc=[Yf[i][disc_locations[i][0]:disc_locations[i][0]+bsqside[i], disc_locations[i][1]:disc_locations[i][1]+bsqside[i]] \n",
        "                   for i in range(len(Xori))]\n",
        "else:\n",
        "  Yf =np.asarray( h5f2['DRISHTI-GS/512 px/disc'])\n",
        "  \n",
        "  Xc = [Xori[i][index512_resize(50,isize):index512_resize(462,isize), index512_resize(50,isize):index512_resize(462,isize)] \n",
        "                   for i in range(len(Xori))]\n",
        "\n",
        "  Yc=[Yf[i][50:462,50:462] \n",
        "                   for i in range(len(Xori))]\n",
        "\n",
        "X=[cv2.resize(img, (128, 128),interpolation=cv2.INTER_NEAREST) for img in Xc]\n",
        "#X=[skimage.exposure.equalize_adapthist(img, clip_limit=0.035)  for img in Xa]\n",
        "X=np.asarray(X) \n",
        "am=np.amax(X)\n",
        "X=X.astype(np.float32)/am \n",
        "print(np.amax(X),np.amin(X))\n",
        "\n",
        "Y=[cv2.resize(img, (128, 128),interpolation=cv2.INTER_NEAREST)[..., None] for img in Yc]\n",
        "Y=np.asarray(Y) \n",
        "ym=np.amax(Y) \n",
        "Yf=Y/ym \n",
        "Yb=(Y>0.5).astype(np.float32) #get binary mask\n",
        "\n",
        "\n",
        "print(np.amax(Yf),np.amin(Yf))\n",
        "print(X.shape)"
      ],
      "execution_count": 23,
      "outputs": [
        {
          "output_type": "stream",
          "text": [
            "1.0 0.0\n",
            "1.0 0.0\n",
            "(50, 128, 128, 3)\n"
          ],
          "name": "stdout"
        }
      ]
    },
    {
      "cell_type": "code",
      "metadata": {
        "id": "2e0cSAtE7dpI",
        "colab_type": "code",
        "outputId": "257b6288-fa22-48a9-e716-786b3f0ea0e7",
        "colab": {
          "base_uri": "https://localhost:8080/",
          "height": 85
        }
      },
      "source": [
        "Xvori= h5f1['RIM-ONE v3/orig/images']\n",
        "disc_locationsv = h5f1['RIM-ONE v3/512 px/disc_locations']\n",
        "Glauv=np.asarray(h5f1['RIM-ONE v3/512 px/is_ill'] ) #Has Glaucoma?\n",
        "FCv=np.asarray(h5f1['RIM-ONE v3/512 px/file_codes'])   #FC\n",
        "indRIM=np.arange(0,Xvori.shape[0])\n",
        "bsqsidev=np.maximum((disc_locationsv[:,3]-disc_locationsv[:,1]),(disc_locationsv[:,2]-disc_locationsv[:,0]))\n",
        "\n",
        "\n",
        "low_cont_n=0;\n",
        "ivsize=Xvori.shape[1]\n",
        "if (cup):\n",
        "  Yvf = h5f1['RIM-ONE v3/512 px/cup']\n",
        "  Xvc = [Xvori[i][index512_resize(disc_locationsv[i][0],ivsize):index512_resize(disc_locationsv[i][0]+bsqsidev[i],ivsize), index512_resize(disc_locationsv[i][1],ivsize):index512_resize(disc_locationsv[i][1]+bsqsidev[i],ivsize)] \n",
        "                     for i in range(len(Xvori))]\n",
        "\n",
        "  Yvc=[Yvf[i][disc_locationsv[i][0]:disc_locationsv[i][0]+bsqsidev[i], disc_locationsv[i][1]:disc_locationsv[i][1]+bsqsidev[i]] \n",
        "                     for i in range(len(Xvori))]\n",
        "\n",
        "else:\n",
        "  Yvf = h5f1['RIM-ONE v3/512 px/disc']\n",
        "  Xvc = [Xvori[i][index512_resize(50,isize):index512_resize(462,ivsize), index512_resize(50,isize):index512_resize(462,ivsize)] \n",
        "                     for i in range(len(Xvori))]\n",
        "\n",
        "  Yvc=[Yvf[i][50:462,50:462] \n",
        "                     for i in range(len(Xvori))]\n",
        "\n",
        "\n",
        "Xvn=[cv2.resize(img, (128, 128),interpolation=cv2.INTER_NEAREST) for img in Xvc]\n",
        "#Xv=[skimage.exposure.equalize_adapthist(img, clip_limit=0.035)  for img in Xvn]\n",
        "\n",
        "Xv=np.asarray(Xvn) \n",
        "am=np.amax(Xv)\n",
        "Xv=Xv.astype(np.float32)/am \n",
        "print(np.amax(Xv),np.amin(Xv))\n",
        "\n",
        "#find number of low contrast images\n",
        "for img in Xv:\n",
        "  if(skimage.exposure.is_low_contrast(img,fraction_threshold=0.2)):\n",
        "    low_cont_n=low_cont_n+1\n",
        "\n",
        "print('low contrast#= {}'.format(low_cont_n))\n",
        "\n",
        "Yv=[cv2.resize(img, (128, 128),interpolation=cv2.INTER_NEAREST)[..., None] for img in Yvc]\n",
        "\n",
        "Yv=np.asarray(Yv) \n",
        "ym=np.amax(Yv) \n",
        "Yvf=(Yv/ym).astype(np.float32) \n",
        "print(np.amax(Yvf),np.amin(Yvf))\n",
        "print(Xv.shape)"
      ],
      "execution_count": 24,
      "outputs": [
        {
          "output_type": "stream",
          "text": [
            "1.0 0.0\n",
            "low contrast#= 36\n",
            "1.0 0.0\n",
            "(159, 128, 128, 3)\n"
          ],
          "name": "stdout"
        }
      ]
    },
    {
      "cell_type": "markdown",
      "metadata": {
        "id": "zHNaYlp3C_qI",
        "colab_type": "text"
      },
      "source": [
        "Create more \"data\". Just copy the vectors over themselves and add modified versions so that the generators can  produce longer batches & Distibute between train & test"
      ]
    },
    {
      "cell_type": "code",
      "metadata": {
        "id": "bOkf5DyYMIVl",
        "colab_type": "code",
        "outputId": "84dd7e25-ffc1-416a-e754-5916726b8597",
        "colab": {
          "base_uri": "https://localhost:8080/",
          "height": 183,
          "referenced_widgets": [
            "a18551e33a0940a890cae21b81a23071",
            "434064c6b8e54a06acbb226e4746d766",
            "426bed3f06b148e7b620a2b2e28c2d31",
            "a4f378f7c5f74a14941369b8059882c8",
            "ea29f9e7994142df8b7b339e8385ca75",
            "de3146fb821e46d2ba4a8bfe1ab0e6b4",
            "eef2493029974ff8ac7ada01becf34df",
            "49937f4107c440f7a7bca66936efbe0e",
            "7a9dc4a098e848d7992a942348b1f805",
            "46e969a9648f49298d0b8a80f2369239",
            "f0919d835d48442f8a398d63bd2acdb3",
            "1c6307a7cf004fbf905c9b49b73b40bf",
            "3bc18935c0ff403e9d3ca798b67800bf",
            "47c7dacd1a794120b186dd551309f93b",
            "6932e5a2088c40c3971586f7307a3c3f",
            "e3f56a3542e64fe39b06ebc47e905499"
          ]
        }
      },
      "source": [
        "rng = np.random.RandomState(rand_sv)\n",
        "\n",
        "#DRI\n",
        "X_train1t, X_test1t, Y_train1t, Y_test1t,   F_train1t, F_test1t ,ind_train1, ind_test1= train_test_split( X, Yb, FC, indDRI,test_size=0.25,random_state=rng)\n",
        "\n",
        "#RIM\n",
        "X_train2, X_test2, Y_train2, Y_test2, G_train2, G_test2, F_train2, F_test2, ind_train2, ind_test2= train_test_split( Xv, Yvf,Glauv, FCv,indRIM, test_size=0.25,random_state=rng)\n",
        "\n",
        "X_test_dri=np.copy(X_test1t)\n",
        "Y_test_dri=np.copy(Y_test1t)\n",
        "#G_test_dri=np.copy(G_test1t)\n",
        "F_test_dri=np.copy(F_test1t)\n",
        "\n",
        "X_test_rim=np.copy(X_test2)\n",
        "Y_test_rim=np.copy(Y_test2)\n",
        "G_test_rim=np.copy(G_test2)\n",
        "F_test_rim=np.copy(F_test2)\n",
        "\n",
        "if(dri or mix):\n",
        "  X_train1=np.concatenate([X_train1t,X_train1t])\n",
        "  X_train1=np.concatenate([X_train1,X_train1t])\n",
        "  X_test1=np.concatenate([X_test1t,X_test1t])\n",
        "  X_test1=np.concatenate([X_test1,X_test1t])\n",
        "\n",
        "  Y_train1=np.concatenate([Y_train1t,Y_train1t])\n",
        "  Y_train1=np.concatenate([Y_train1,Y_train1t])\n",
        "  Y_test1=np.concatenate([Y_test1t,Y_test1t])\n",
        "  Y_test1=np.concatenate([Y_test1,Y_test1t])\n",
        "\n",
        "if(mix):\n",
        "  X_train1=np.concatenate([X_train1,X_train2])\n",
        "  Y_train1=np.concatenate([Y_train1,Y_train2])\n",
        "  X_test1=np.concatenate([X_test1,X_test2])\n",
        "  Y_test1=np.concatenate([Y_test1,Y_test2])\n",
        "\n",
        "  X_train1=np.concatenate([X_train1,X_train2])\n",
        "  Y_train1=np.concatenate([Y_train1,Y_train2])\n",
        "  X_test1=np.concatenate([X_test1,X_test2])\n",
        "  Y_test1=np.concatenate([Y_test1,Y_test2])\n",
        "\n",
        "if(rim):\n",
        "  X_train1=np.concatenate([X_train2,X_train2])\n",
        "  #X_train1=np.concatenate([X_train1,X_train2])\n",
        "  X_test1=np.concatenate([X_test2,X_test2])\n",
        "  #X_test1=np.concatenate([X_test1,X_test2])\n",
        "\n",
        "  Y_train1=np.concatenate([Y_train2,Y_train2])\n",
        "  #Y_train1=np.concatenate([Y_train1,Y_train2])\n",
        "  Y_test1=np.concatenate([Y_test2,Y_test2])\n",
        "  #Y_test1=np.concatenate([Y_test1,Y_test2])\n",
        "\n",
        "if(dri):\n",
        "  X_train1=np.concatenate([X_train1,X_train1])\n",
        "  Y_train1=np.concatenate([Y_train1,Y_train1])\n",
        "\n",
        "X_train1=np.asarray(X_train1)\n",
        "Y_train1=np.asarray(Y_train1)\n",
        "X_test=np.asarray(X_test1)\n",
        "Y_test=np.asarray(Y_test1)\n",
        "\n",
        "X_train=np.copy(X_train1)\n",
        "Y_train=np.copy(Y_train1)\n",
        "\n",
        "size=X_train1.shape[0]\n",
        "\n",
        "X_traine=np.empty((20*size, 128, 128, 3),dtype=np.float32)\n",
        "Y_traine=np.empty((20*size, 128, 128, 1),dtype=np.float32)\n",
        "\n",
        "\n",
        "\n",
        "for i in range(16):\n",
        "  #print(i*size,(i+1)*size)\n",
        "  X_traine[i*size:(i+1)*size]=X_train1\n",
        "  Y_traine[i*size:(i+1)*size]=Y_train1\n",
        "  \n",
        "base= 16*size\n",
        "\n",
        "for j in tqdm_notebook(range(X_train1.shape[0])):\n",
        "  X_traine[base]=skimage.exposure.equalize_adapthist(X_train1[j], clip_limit=0.04)\n",
        "  Y_traine[base]=Y_train1[j]\n",
        "  base+=1\n",
        "  X_traine[base]=skimage.exposure.equalize_adapthist(X_train1[j], clip_limit=0.02)\n",
        "  Y_traine[base]=Y_train1[j]\n",
        "  base+=1\n",
        "  X_traine[base]=modify_brightness_p(X_train1[j],0.9)\n",
        "  Y_traine[base]=Y_train1[j]\n",
        "  base+=1\n",
        "  X_traine[base]=modify_brightness_p(X_train1[j],1.1)\n",
        "  Y_traine[base]=Y_train1[j]\n",
        "  base+=1\n",
        "  \n",
        "X_testc=np.copy(X_test)\n",
        "Y_testc=np.copy(Y_test)\n",
        "\n",
        "sizev=X_testc.shape[0]\n",
        "\n",
        "X_teste=np.empty((20*sizev, 128, 128, 3),dtype=np.float32)\n",
        "Y_teste=np.empty((20*sizev, 128, 128, 1),dtype=np.float32)\n",
        "\n",
        "for i in range(8):\n",
        "  X_teste[i*sizev:(i+1)*sizev]=X_testc\n",
        "  Y_teste[i*sizev:(i+1)*sizev]=Y_testc\n",
        "  \n",
        "basev= 8*sizev\n",
        "\n",
        "for j in tqdm_notebook(range(X_testc.shape[0])):\n",
        "  X_teste[basev]=skimage.exposure.equalize_adapthist(X_testc[j], clip_limit=0.04)\n",
        "  Y_teste[basev]=Y_testc[j]\n",
        "  basev+=1\n",
        "  X_teste[basev]=skimage.exposure.equalize_adapthist(X_testc[j], clip_limit=0.02)\n",
        "  Y_teste[basev]=Y_testc[j]\n",
        "  basev+=1\n",
        "  X_teste[basev]=modify_brightness_p(X_testc[j],0.9)\n",
        "  Y_teste[basev]=Y_testc[j]\n",
        "  basev+=1\n",
        "  X_teste[basev]=modify_brightness_p(X_testc[j],1.1)\n",
        "  Y_teste[basev]=Y_testc[j]\n",
        "  basev+=1\n",
        "  \n",
        " "
      ],
      "execution_count": 25,
      "outputs": [
        {
          "output_type": "stream",
          "text": [
            "/usr/local/lib/python3.6/dist-packages/ipykernel_launcher.py:78: TqdmDeprecationWarning: This function will be removed in tqdm==5.0.0\n",
            "Please use `tqdm.notebook.tqdm` instead of `tqdm.tqdm_notebook`\n"
          ],
          "name": "stderr"
        },
        {
          "output_type": "display_data",
          "data": {
            "application/vnd.jupyter.widget-view+json": {
              "model_id": "a18551e33a0940a890cae21b81a23071",
              "version_minor": 0,
              "version_major": 2
            },
            "text/plain": [
              "HBox(children=(FloatProgress(value=0.0, max=349.0), HTML(value='')))"
            ]
          },
          "metadata": {
            "tags": []
          }
        },
        {
          "output_type": "stream",
          "text": [
            "\n"
          ],
          "name": "stdout"
        },
        {
          "output_type": "stream",
          "text": [
            "/usr/local/lib/python3.6/dist-packages/ipykernel_launcher.py:106: TqdmDeprecationWarning: This function will be removed in tqdm==5.0.0\n",
            "Please use `tqdm.notebook.tqdm` instead of `tqdm.tqdm_notebook`\n"
          ],
          "name": "stderr"
        },
        {
          "output_type": "display_data",
          "data": {
            "application/vnd.jupyter.widget-view+json": {
              "model_id": "7a9dc4a098e848d7992a942348b1f805",
              "version_minor": 0,
              "version_major": 2
            },
            "text/plain": [
              "HBox(children=(FloatProgress(value=0.0, max=119.0), HTML(value='')))"
            ]
          },
          "metadata": {
            "tags": []
          }
        },
        {
          "output_type": "stream",
          "text": [
            "\n"
          ],
          "name": "stdout"
        }
      ]
    },
    {
      "cell_type": "markdown",
      "metadata": {
        "id": "rjtXdPruE9vi",
        "colab_type": "text"
      },
      "source": [
        "***Aumented dual image generator***\n"
      ]
    },
    {
      "cell_type": "code",
      "metadata": {
        "id": "k0LN9Tqi-BWg",
        "colab_type": "code",
        "colab": {}
      },
      "source": [
        "X_trains,Y_trains=unison_shuffled_copies(X_traine, Y_traine)"
      ],
      "execution_count": 0,
      "outputs": []
    },
    {
      "cell_type": "code",
      "metadata": {
        "id": "gKMaSRPwVoH-",
        "colab_type": "code",
        "colab": {}
      },
      "source": [
        "X_tests,Y_tests=unison_shuffled_copies(X_teste, Y_teste)"
      ],
      "execution_count": 0,
      "outputs": []
    },
    {
      "cell_type": "code",
      "metadata": {
        "id": "XAMuOnUGFI4o",
        "colab_type": "code",
        "colab": {}
      },
      "source": [
        "# Provide the same seed and keyword arguments to the fit and flow methods\n",
        "seed=rand_sv\n",
        "batch_s=120\n",
        "#batch_s=96 #conv_Trans will not run in GPU with 128"
      ],
      "execution_count": 0,
      "outputs": []
    },
    {
      "cell_type": "code",
      "metadata": {
        "id": "73WMjwbyFLjH",
        "colab_type": "code",
        "colab": {}
      },
      "source": [
        "data_gen_args = dict(#rescale=1./255,\n",
        "                     #featurewise_center=True,\n",
        "                     #featurewise_std_normalization=True,\n",
        "                     horizontal_flip=True, vertical_flip=True,\n",
        "                     rotation_range=30,\n",
        "                     width_shift_range=0.1,\n",
        "                     height_shift_range=0.1,\n",
        "                     zoom_range=0.2,\n",
        "                     fill_mode='constant', cval=0.0, \n",
        "                     #brightness_range=[-0.1,0.1],\n",
        "                     #preprocessing_function=skimage.exposure.equalize_adapthist,\n",
        "                     dtype='float32'\n",
        "                     )\n",
        "\n",
        "data_gen_args_test = dict(#rescale=1./255,\n",
        "                     #featurewise_center=True,\n",
        "                     #featurewise_std_normalization=True,\n",
        "                     horizontal_flip=False, vertical_flip=False,\n",
        "                     rotation_range=0,\n",
        "                     width_shift_range=0,\n",
        "                     height_shift_range=0,\n",
        "                     zoom_range=0,\n",
        "                     fill_mode='constant', cval=0.0, \n",
        "                     #brightness_range=[-0.1,0.1],\n",
        "                     #preprocessing_function=skimage.exposure.equalize_adapthist,\n",
        "                     dtype='float32'\n",
        "                     )\n",
        "\n",
        "\n",
        "image_datagen = ImageDataGenerator(**data_gen_args)\n",
        "mask_datagen = ImageDataGenerator(**data_gen_args)\n",
        "\n",
        "image_generator = image_datagen.flow(\n",
        "    X_trains,\n",
        "    batch_size=batch_s,\n",
        "    seed=seed)\n",
        "\n",
        "mask_generator = mask_datagen.flow(\n",
        "    Y_trains,\n",
        "    batch_size=batch_s,\n",
        "    seed=seed)\n",
        "\n",
        "#train_generator = zip(image_generator, mask_generator)\n",
        "def train_generator():\n",
        "  while True:\n",
        "    yield image_generator.next(),mask_generator.next()\n",
        "    \n",
        "#Lets try not to alter the test data\n",
        "\n",
        "image_datagenT = ImageDataGenerator(**data_gen_args_test)\n",
        "mask_datagenT = ImageDataGenerator(**data_gen_args_test)\n",
        "\n",
        "image_generator_test = image_datagenT.flow(\n",
        "    X_tests,\n",
        "    batch_size=batch_s,\n",
        "    seed=seed)\n",
        "\n",
        "mask_generator_test = mask_datagenT.flow(\n",
        "    Y_tests,\n",
        "    batch_size=batch_s,\n",
        "    seed=seed)\n",
        "\n",
        "#test_generator = zip(image_generator_test, mask_generator_test)\n",
        "def test_generator():\n",
        "  while True:\n",
        "    yield image_generator_test.next(),mask_generator_test.next()"
      ],
      "execution_count": 0,
      "outputs": []
    },
    {
      "cell_type": "code",
      "metadata": {
        "id": "AMRhSjgBL96j",
        "colab_type": "code",
        "colab": {}
      },
      "source": [
        "train_dataset = tf.data.Dataset.from_generator(train_generator, (tf.float32, tf.float32),((None,128,128,3),(None,128,128,1)))"
      ],
      "execution_count": 0,
      "outputs": []
    },
    {
      "cell_type": "code",
      "metadata": {
        "id": "Ok5SH6vDMn0G",
        "colab_type": "code",
        "colab": {}
      },
      "source": [
        "test_dataset = tf.data.Dataset.from_generator(test_generator, (tf.float32, tf.float32),((None,128,128,3),(None,128,128,1)))"
      ],
      "execution_count": 0,
      "outputs": []
    },
    {
      "cell_type": "markdown",
      "metadata": {
        "id": "GedrFNQHFhP7",
        "colab_type": "text"
      },
      "source": [
        "Set the place for localy saving the weights. After training we will copy to Gdrive"
      ]
    },
    {
      "cell_type": "markdown",
      "metadata": {
        "id": "62etdByjLvlb",
        "colab_type": "text"
      },
      "source": [
        "###Train on GPU"
      ]
    },
    {
      "cell_type": "code",
      "metadata": {
        "id": "cG3TALY1_ofB",
        "colab_type": "code",
        "colab": {}
      },
      "source": [
        "cp_callbacks = tf.keras.callbacks.ModelCheckpoint(filepath=os.path.join('/content/gdrive/My Drive/TPU/'+name+'last_checkpoint.hdf5'), verbose=1, save_best_only=True,save_weights_only=True)\n",
        "reduce_lr = ReduceLROnPlateau(monitor='val_loss', factor=0.8, patience=5, min_lr=2e-4)"
      ],
      "execution_count": 0,
      "outputs": []
    },
    {
      "cell_type": "code",
      "metadata": {
        "id": "Wp2MYmAvMj4p",
        "colab_type": "code",
        "colab": {
          "base_uri": "https://localhost:8080/",
          "height": 697
        },
        "outputId": "a809653c-b3f3-46c2-a86b-3be330f872d1"
      },
      "source": [
        "\n",
        "if 'COLAB_TPU_ADDR' not in  os.environ:\n",
        "  if (gpu):\n",
        "    strategy = tf.distribute.OneDeviceStrategy(device=\"/gpu:0\")\n",
        "  else:\n",
        "    strategy = tf.distribute.OneDeviceStrategy(device=\"/cpu:0\")\n",
        "else:\n",
        "  resolver = tf.distribute.cluster_resolver.TPUClusterResolver(tpu='grpc://' + os.environ['COLAB_TPU_ADDR'])\n",
        "  tf.config.experimental_connect_to_cluster(resolver)\n",
        "  tf.tpu.experimental.initialize_tpu_system(resolver)\n",
        "  strategy = tf.distribute.experimental.TPUStrategy(resolver)\n",
        "\n",
        "with strategy.scope():\n",
        "  #model = create_model()\n",
        "  model = UNet(img_shape,start_ch=chan,upconv=False,dropout=0.5, depth=depth,inc_rate=ir, batchnorm=True) #create_model()\n",
        "  model.compile(\n",
        "      optimizer=tf.keras.optimizers.Adam(learning_rate=.001, ),\n",
        "      #loss='binary_crossentropy',metrics=['accuracy'],\n",
        "      loss=log_dice_loss, metrics=[dice_coef]\n",
        "      )"
      ],
      "execution_count": 33,
      "outputs": [
        {
          "output_type": "stream",
          "text": [
            "INFO:tensorflow:Initializing the TPU system: grpc://10.90.122.250:8470\n"
          ],
          "name": "stdout"
        },
        {
          "output_type": "stream",
          "text": [
            "INFO:tensorflow:Initializing the TPU system: grpc://10.90.122.250:8470\n"
          ],
          "name": "stderr"
        },
        {
          "output_type": "stream",
          "text": [
            "INFO:tensorflow:Clearing out eager caches\n"
          ],
          "name": "stdout"
        },
        {
          "output_type": "stream",
          "text": [
            "INFO:tensorflow:Clearing out eager caches\n"
          ],
          "name": "stderr"
        },
        {
          "output_type": "stream",
          "text": [
            "INFO:tensorflow:Finished initializing TPU system.\n"
          ],
          "name": "stdout"
        },
        {
          "output_type": "stream",
          "text": [
            "INFO:tensorflow:Finished initializing TPU system.\n"
          ],
          "name": "stderr"
        },
        {
          "output_type": "stream",
          "text": [
            "INFO:tensorflow:Found TPU system:\n"
          ],
          "name": "stdout"
        },
        {
          "output_type": "stream",
          "text": [
            "INFO:tensorflow:Found TPU system:\n"
          ],
          "name": "stderr"
        },
        {
          "output_type": "stream",
          "text": [
            "INFO:tensorflow:*** Num TPU Cores: 8\n"
          ],
          "name": "stdout"
        },
        {
          "output_type": "stream",
          "text": [
            "INFO:tensorflow:*** Num TPU Cores: 8\n"
          ],
          "name": "stderr"
        },
        {
          "output_type": "stream",
          "text": [
            "INFO:tensorflow:*** Num TPU Workers: 1\n"
          ],
          "name": "stdout"
        },
        {
          "output_type": "stream",
          "text": [
            "INFO:tensorflow:*** Num TPU Workers: 1\n"
          ],
          "name": "stderr"
        },
        {
          "output_type": "stream",
          "text": [
            "INFO:tensorflow:*** Num TPU Cores Per Worker: 8\n"
          ],
          "name": "stdout"
        },
        {
          "output_type": "stream",
          "text": [
            "INFO:tensorflow:*** Num TPU Cores Per Worker: 8\n"
          ],
          "name": "stderr"
        },
        {
          "output_type": "stream",
          "text": [
            "INFO:tensorflow:*** Available Device: _DeviceAttributes(/job:localhost/replica:0/task:0/device:CPU:0, CPU, 0, 0)\n"
          ],
          "name": "stdout"
        },
        {
          "output_type": "stream",
          "text": [
            "INFO:tensorflow:*** Available Device: _DeviceAttributes(/job:localhost/replica:0/task:0/device:CPU:0, CPU, 0, 0)\n"
          ],
          "name": "stderr"
        },
        {
          "output_type": "stream",
          "text": [
            "INFO:tensorflow:*** Available Device: _DeviceAttributes(/job:localhost/replica:0/task:0/device:XLA_CPU:0, XLA_CPU, 0, 0)\n"
          ],
          "name": "stdout"
        },
        {
          "output_type": "stream",
          "text": [
            "INFO:tensorflow:*** Available Device: _DeviceAttributes(/job:localhost/replica:0/task:0/device:XLA_CPU:0, XLA_CPU, 0, 0)\n"
          ],
          "name": "stderr"
        },
        {
          "output_type": "stream",
          "text": [
            "INFO:tensorflow:*** Available Device: _DeviceAttributes(/job:worker/replica:0/task:0/device:CPU:0, CPU, 0, 0)\n"
          ],
          "name": "stdout"
        },
        {
          "output_type": "stream",
          "text": [
            "INFO:tensorflow:*** Available Device: _DeviceAttributes(/job:worker/replica:0/task:0/device:CPU:0, CPU, 0, 0)\n"
          ],
          "name": "stderr"
        },
        {
          "output_type": "stream",
          "text": [
            "INFO:tensorflow:*** Available Device: _DeviceAttributes(/job:worker/replica:0/task:0/device:TPU:0, TPU, 0, 0)\n"
          ],
          "name": "stdout"
        },
        {
          "output_type": "stream",
          "text": [
            "INFO:tensorflow:*** Available Device: _DeviceAttributes(/job:worker/replica:0/task:0/device:TPU:0, TPU, 0, 0)\n"
          ],
          "name": "stderr"
        },
        {
          "output_type": "stream",
          "text": [
            "INFO:tensorflow:*** Available Device: _DeviceAttributes(/job:worker/replica:0/task:0/device:TPU:1, TPU, 0, 0)\n"
          ],
          "name": "stdout"
        },
        {
          "output_type": "stream",
          "text": [
            "INFO:tensorflow:*** Available Device: _DeviceAttributes(/job:worker/replica:0/task:0/device:TPU:1, TPU, 0, 0)\n"
          ],
          "name": "stderr"
        },
        {
          "output_type": "stream",
          "text": [
            "INFO:tensorflow:*** Available Device: _DeviceAttributes(/job:worker/replica:0/task:0/device:TPU:2, TPU, 0, 0)\n"
          ],
          "name": "stdout"
        },
        {
          "output_type": "stream",
          "text": [
            "INFO:tensorflow:*** Available Device: _DeviceAttributes(/job:worker/replica:0/task:0/device:TPU:2, TPU, 0, 0)\n"
          ],
          "name": "stderr"
        },
        {
          "output_type": "stream",
          "text": [
            "INFO:tensorflow:*** Available Device: _DeviceAttributes(/job:worker/replica:0/task:0/device:TPU:3, TPU, 0, 0)\n"
          ],
          "name": "stdout"
        },
        {
          "output_type": "stream",
          "text": [
            "INFO:tensorflow:*** Available Device: _DeviceAttributes(/job:worker/replica:0/task:0/device:TPU:3, TPU, 0, 0)\n"
          ],
          "name": "stderr"
        },
        {
          "output_type": "stream",
          "text": [
            "INFO:tensorflow:*** Available Device: _DeviceAttributes(/job:worker/replica:0/task:0/device:TPU:4, TPU, 0, 0)\n"
          ],
          "name": "stdout"
        },
        {
          "output_type": "stream",
          "text": [
            "INFO:tensorflow:*** Available Device: _DeviceAttributes(/job:worker/replica:0/task:0/device:TPU:4, TPU, 0, 0)\n"
          ],
          "name": "stderr"
        },
        {
          "output_type": "stream",
          "text": [
            "INFO:tensorflow:*** Available Device: _DeviceAttributes(/job:worker/replica:0/task:0/device:TPU:5, TPU, 0, 0)\n"
          ],
          "name": "stdout"
        },
        {
          "output_type": "stream",
          "text": [
            "INFO:tensorflow:*** Available Device: _DeviceAttributes(/job:worker/replica:0/task:0/device:TPU:5, TPU, 0, 0)\n"
          ],
          "name": "stderr"
        },
        {
          "output_type": "stream",
          "text": [
            "INFO:tensorflow:*** Available Device: _DeviceAttributes(/job:worker/replica:0/task:0/device:TPU:6, TPU, 0, 0)\n"
          ],
          "name": "stdout"
        },
        {
          "output_type": "stream",
          "text": [
            "INFO:tensorflow:*** Available Device: _DeviceAttributes(/job:worker/replica:0/task:0/device:TPU:6, TPU, 0, 0)\n"
          ],
          "name": "stderr"
        },
        {
          "output_type": "stream",
          "text": [
            "INFO:tensorflow:*** Available Device: _DeviceAttributes(/job:worker/replica:0/task:0/device:TPU:7, TPU, 0, 0)\n"
          ],
          "name": "stdout"
        },
        {
          "output_type": "stream",
          "text": [
            "INFO:tensorflow:*** Available Device: _DeviceAttributes(/job:worker/replica:0/task:0/device:TPU:7, TPU, 0, 0)\n"
          ],
          "name": "stderr"
        },
        {
          "output_type": "stream",
          "text": [
            "INFO:tensorflow:*** Available Device: _DeviceAttributes(/job:worker/replica:0/task:0/device:TPU_SYSTEM:0, TPU_SYSTEM, 0, 0)\n"
          ],
          "name": "stdout"
        },
        {
          "output_type": "stream",
          "text": [
            "INFO:tensorflow:*** Available Device: _DeviceAttributes(/job:worker/replica:0/task:0/device:TPU_SYSTEM:0, TPU_SYSTEM, 0, 0)\n"
          ],
          "name": "stderr"
        },
        {
          "output_type": "stream",
          "text": [
            "INFO:tensorflow:*** Available Device: _DeviceAttributes(/job:worker/replica:0/task:0/device:XLA_CPU:0, XLA_CPU, 0, 0)\n"
          ],
          "name": "stdout"
        },
        {
          "output_type": "stream",
          "text": [
            "INFO:tensorflow:*** Available Device: _DeviceAttributes(/job:worker/replica:0/task:0/device:XLA_CPU:0, XLA_CPU, 0, 0)\n"
          ],
          "name": "stderr"
        }
      ]
    },
    {
      "cell_type": "code",
      "metadata": {
        "id": "pghPxpH03FVN",
        "colab_type": "code",
        "colab": {}
      },
      "source": [
        "if(preload):\n",
        "  model.load_weights(os.path.join('/content/gdrive/My Drive/TPU/'+pname+'last_checkpoint.hdf5'))"
      ],
      "execution_count": 0,
      "outputs": []
    },
    {
      "cell_type": "code",
      "metadata": {
        "id": "lc99NWpsgmIr",
        "colab_type": "code",
        "colab": {
          "base_uri": "https://localhost:8080/",
          "height": 1000
        },
        "outputId": "aab7c76c-a58b-4121-ca15-63c431576139"
      },
      "source": [
        "\n",
        "\n",
        "if(train):\n",
        "  history=model.fit(\n",
        "    #x_train.astype(np.float32), y_train.astype(np.float32),\n",
        "    #train_dataset,\n",
        "    X_trains,Y_trains,\n",
        "    epochs=Epochs,\n",
        "    batch_size=128,\n",
        "    steps_per_epoch=35,\n",
        "    validation_data = (X_tests,Y_tests),\n",
        "    #validation_steps=8,\n",
        "    callbacks=[cp_callbacks,reduce_lr],\n",
        "    verbose=1\n",
        "  )\n",
        "\n",
        "model.save_weights(os.path.join('/content/gdrive/My Drive/TPU/'+name+'F_last_checkpoint.hdf5'), overwrite=True)"
      ],
      "execution_count": 35,
      "outputs": [
        {
          "output_type": "stream",
          "text": [
            "Epoch 1/30\n",
            "35/35 [==============================] - ETA: 0s - dice_coef: 0.6974 - loss: 0.3866\n",
            "Epoch 00001: val_loss improved from inf to 1.02489, saving model to /content/gdrive/My Drive/TPU/MIXCUPT6w64ir11r42last_checkpoint.hdf5\n",
            "35/35 [==============================] - 24s 676ms/step - dice_coef: 0.6974 - loss: 0.3866 - val_dice_coef: 0.3685 - val_loss: 1.0249 - lr: 0.0010\n",
            "Epoch 2/30\n",
            "35/35 [==============================] - ETA: 0s - dice_coef: 0.8783 - loss: 0.1304\n",
            "Epoch 00002: val_loss improved from 1.02489 to 0.57167, saving model to /content/gdrive/My Drive/TPU/MIXCUPT6w64ir11r42last_checkpoint.hdf5\n",
            "35/35 [==============================] - 22s 628ms/step - dice_coef: 0.8783 - loss: 0.1304 - val_dice_coef: 0.5676 - val_loss: 0.5717 - lr: 0.0010\n",
            "Epoch 3/30\n",
            "35/35 [==============================] - ETA: 0s - dice_coef: 0.9259 - loss: 0.0773\n",
            "Epoch 00003: val_loss did not improve from 0.57167\n",
            "35/35 [==============================] - 10s 298ms/step - dice_coef: 0.9259 - loss: 0.0773 - val_dice_coef: 0.5083 - val_loss: 0.6825 - lr: 0.0010\n",
            "Epoch 4/30\n",
            "35/35 [==============================] - ETA: 0s - dice_coef: 0.9471 - loss: 0.0543\n",
            "Epoch 00004: val_loss did not improve from 0.57167\n",
            "35/35 [==============================] - 10s 299ms/step - dice_coef: 0.9471 - loss: 0.0543 - val_dice_coef: 0.4860 - val_loss: 0.7279 - lr: 0.0010\n",
            "Epoch 5/30\n",
            "35/35 [==============================] - ETA: 0s - dice_coef: 0.9598 - loss: 0.0410\n",
            "Epoch 00005: val_loss did not improve from 0.57167\n",
            "35/35 [==============================] - 11s 302ms/step - dice_coef: 0.9598 - loss: 0.0410 - val_dice_coef: 0.4833 - val_loss: 0.7337 - lr: 0.0010\n",
            "Epoch 6/30\n",
            "35/35 [==============================] - ETA: 0s - dice_coef: 0.9705 - loss: 0.0299\n",
            "Epoch 00006: val_loss improved from 0.57167 to 0.56692, saving model to /content/gdrive/My Drive/TPU/MIXCUPT6w64ir11r42last_checkpoint.hdf5\n",
            "35/35 [==============================] - 12s 330ms/step - dice_coef: 0.9705 - loss: 0.0299 - val_dice_coef: 0.5701 - val_loss: 0.5669 - lr: 0.0010\n",
            "Epoch 7/30\n",
            "35/35 [==============================] - ETA: 0s - dice_coef: 0.9734 - loss: 0.0269\n",
            "Epoch 00007: val_loss improved from 0.56692 to 0.43455, saving model to /content/gdrive/My Drive/TPU/MIXCUPT6w64ir11r42last_checkpoint.hdf5\n",
            "35/35 [==============================] - 12s 334ms/step - dice_coef: 0.9734 - loss: 0.0269 - val_dice_coef: 0.6544 - val_loss: 0.4346 - lr: 0.0010\n",
            "Epoch 8/30\n",
            "35/35 [==============================] - ETA: 0s - dice_coef: 0.9795 - loss: 0.0207\n",
            "Epoch 00008: val_loss did not improve from 0.43455\n",
            "35/35 [==============================] - 11s 302ms/step - dice_coef: 0.9795 - loss: 0.0207 - val_dice_coef: 0.6373 - val_loss: 0.4583 - lr: 0.0010\n",
            "Epoch 9/30\n",
            "35/35 [==============================] - ETA: 0s - dice_coef: 0.9816 - loss: 0.0186\n",
            "Epoch 00009: val_loss did not improve from 0.43455\n",
            "35/35 [==============================] - 11s 301ms/step - dice_coef: 0.9816 - loss: 0.0186 - val_dice_coef: 0.6105 - val_loss: 0.5055 - lr: 0.0010\n",
            "Epoch 10/30\n",
            "35/35 [==============================] - ETA: 0s - dice_coef: 0.9761 - loss: 0.0238\n",
            "Epoch 00010: val_loss improved from 0.43455 to 0.40860, saving model to /content/gdrive/My Drive/TPU/MIXCUPT6w64ir11r42last_checkpoint.hdf5\n",
            "35/35 [==============================] - 12s 335ms/step - dice_coef: 0.9761 - loss: 0.0238 - val_dice_coef: 0.6690 - val_loss: 0.4086 - lr: 0.0010\n",
            "Epoch 11/30\n",
            "35/35 [==============================] - ETA: 0s - dice_coef: 0.9788 - loss: 0.0214\n",
            "Epoch 00011: val_loss improved from 0.40860 to 0.20893, saving model to /content/gdrive/My Drive/TPU/MIXCUPT6w64ir11r42last_checkpoint.hdf5\n",
            "35/35 [==============================] - 12s 342ms/step - dice_coef: 0.9788 - loss: 0.0214 - val_dice_coef: 0.8130 - val_loss: 0.2089 - lr: 0.0010\n",
            "Epoch 12/30\n",
            "35/35 [==============================] - ETA: 0s - dice_coef: 0.9825 - loss: 0.0177\n",
            "Epoch 00012: val_loss did not improve from 0.20893\n",
            "35/35 [==============================] - 11s 303ms/step - dice_coef: 0.9825 - loss: 0.0177 - val_dice_coef: 0.7984 - val_loss: 0.2271 - lr: 0.0010\n",
            "Epoch 13/30\n",
            "35/35 [==============================] - ETA: 0s - dice_coef: 0.9847 - loss: 0.0154\n",
            "Epoch 00013: val_loss improved from 0.20893 to 0.20778, saving model to /content/gdrive/My Drive/TPU/MIXCUPT6w64ir11r42last_checkpoint.hdf5\n",
            "35/35 [==============================] - 12s 342ms/step - dice_coef: 0.9847 - loss: 0.0154 - val_dice_coef: 0.8140 - val_loss: 0.2078 - lr: 0.0010\n",
            "Epoch 14/30\n",
            "35/35 [==============================] - ETA: 0s - dice_coef: 0.9863 - loss: 0.0138\n",
            "Epoch 00014: val_loss improved from 0.20778 to 0.20417, saving model to /content/gdrive/My Drive/TPU/MIXCUPT6w64ir11r42last_checkpoint.hdf5\n",
            "35/35 [==============================] - 12s 344ms/step - dice_coef: 0.9863 - loss: 0.0138 - val_dice_coef: 0.8169 - val_loss: 0.2042 - lr: 0.0010\n",
            "Epoch 15/30\n",
            "35/35 [==============================] - ETA: 0s - dice_coef: 0.9872 - loss: 0.0129\n",
            "Epoch 00015: val_loss did not improve from 0.20417\n",
            "35/35 [==============================] - 11s 301ms/step - dice_coef: 0.9872 - loss: 0.0129 - val_dice_coef: 0.8150 - val_loss: 0.2064 - lr: 0.0010\n",
            "Epoch 16/30\n",
            "35/35 [==============================] - ETA: 0s - dice_coef: 0.9876 - loss: 0.0125\n",
            "Epoch 00016: val_loss did not improve from 0.20417\n",
            "35/35 [==============================] - 11s 301ms/step - dice_coef: 0.9876 - loss: 0.0125 - val_dice_coef: 0.7925 - val_loss: 0.2355 - lr: 0.0010\n",
            "Epoch 17/30\n",
            "35/35 [==============================] - ETA: 0s - dice_coef: 0.9880 - loss: 0.0121\n",
            "Epoch 00017: val_loss improved from 0.20417 to 0.18661, saving model to /content/gdrive/My Drive/TPU/MIXCUPT6w64ir11r42last_checkpoint.hdf5\n",
            "35/35 [==============================] - 12s 336ms/step - dice_coef: 0.9880 - loss: 0.0121 - val_dice_coef: 0.8308 - val_loss: 0.1866 - lr: 0.0010\n",
            "Epoch 18/30\n",
            "35/35 [==============================] - ETA: 0s - dice_coef: 0.9868 - loss: 0.0133\n",
            "Epoch 00018: val_loss did not improve from 0.18661\n",
            "35/35 [==============================] - 11s 301ms/step - dice_coef: 0.9868 - loss: 0.0133 - val_dice_coef: 0.8112 - val_loss: 0.2114 - lr: 0.0010\n",
            "Epoch 19/30\n",
            "35/35 [==============================] - ETA: 0s - dice_coef: 0.9887 - loss: 0.0114\n",
            "Epoch 00019: val_loss improved from 0.18661 to 0.16700, saving model to /content/gdrive/My Drive/TPU/MIXCUPT6w64ir11r42last_checkpoint.hdf5\n",
            "35/35 [==============================] - 12s 333ms/step - dice_coef: 0.9887 - loss: 0.0114 - val_dice_coef: 0.8471 - val_loss: 0.1670 - lr: 0.0010\n",
            "Epoch 20/30\n",
            "35/35 [==============================] - ETA: 0s - dice_coef: 0.9891 - loss: 0.0110\n",
            "Epoch 00020: val_loss did not improve from 0.16700\n",
            "35/35 [==============================] - 11s 305ms/step - dice_coef: 0.9891 - loss: 0.0110 - val_dice_coef: 0.8388 - val_loss: 0.1769 - lr: 0.0010\n",
            "Epoch 21/30\n",
            "35/35 [==============================] - ETA: 0s - dice_coef: 0.9894 - loss: 0.0106\n",
            "Epoch 00021: val_loss did not improve from 0.16700\n",
            "35/35 [==============================] - 10s 300ms/step - dice_coef: 0.9894 - loss: 0.0106 - val_dice_coef: 0.8426 - val_loss: 0.1725 - lr: 0.0010\n",
            "Epoch 22/30\n",
            "35/35 [==============================] - ETA: 0s - dice_coef: 0.9888 - loss: 0.0112\n",
            "Epoch 00022: val_loss did not improve from 0.16700\n",
            "35/35 [==============================] - 11s 302ms/step - dice_coef: 0.9888 - loss: 0.0112 - val_dice_coef: 0.8261 - val_loss: 0.1927 - lr: 0.0010\n",
            "Epoch 23/30\n",
            "35/35 [==============================] - ETA: 0s - dice_coef: 0.9886 - loss: 0.0115\n",
            "Epoch 00023: val_loss improved from 0.16700 to 0.15094, saving model to /content/gdrive/My Drive/TPU/MIXCUPT6w64ir11r42last_checkpoint.hdf5\n",
            "35/35 [==============================] - 12s 336ms/step - dice_coef: 0.9886 - loss: 0.0115 - val_dice_coef: 0.8606 - val_loss: 0.1509 - lr: 0.0010\n",
            "Epoch 24/30\n",
            "35/35 [==============================] - ETA: 0s - dice_coef: 0.9894 - loss: 0.0107\n",
            "Epoch 00024: val_loss did not improve from 0.15094\n",
            "35/35 [==============================] - 11s 304ms/step - dice_coef: 0.9894 - loss: 0.0107 - val_dice_coef: 0.8599 - val_loss: 0.1516 - lr: 0.0010\n",
            "Epoch 25/30\n",
            "35/35 [==============================] - ETA: 0s - dice_coef: 0.9898 - loss: 0.0103\n",
            "Epoch 00025: val_loss did not improve from 0.15094\n",
            "35/35 [==============================] - 11s 301ms/step - dice_coef: 0.9898 - loss: 0.0103 - val_dice_coef: 0.8063 - val_loss: 0.2181 - lr: 0.0010\n",
            "Epoch 26/30\n",
            "35/35 [==============================] - ETA: 0s - dice_coef: 0.9902 - loss: 0.0099\n",
            "Epoch 00026: val_loss did not improve from 0.15094\n",
            "35/35 [==============================] - 10s 300ms/step - dice_coef: 0.9902 - loss: 0.0099 - val_dice_coef: 0.8002 - val_loss: 0.2260 - lr: 0.0010\n",
            "Epoch 27/30\n",
            "35/35 [==============================] - ETA: 0s - dice_coef: 0.9903 - loss: 0.0098\n",
            "Epoch 00027: val_loss did not improve from 0.15094\n",
            "35/35 [==============================] - 11s 301ms/step - dice_coef: 0.9903 - loss: 0.0098 - val_dice_coef: 0.8120 - val_loss: 0.2104 - lr: 0.0010\n",
            "Epoch 28/30\n",
            "35/35 [==============================] - ETA: 0s - dice_coef: 0.9900 - loss: 0.0101\n",
            "Epoch 00028: val_loss did not improve from 0.15094\n",
            "35/35 [==============================] - 11s 306ms/step - dice_coef: 0.9900 - loss: 0.0101 - val_dice_coef: 0.8479 - val_loss: 0.1660 - lr: 0.0010\n",
            "Epoch 29/30\n",
            "35/35 [==============================] - ETA: 0s - dice_coef: 0.9909 - loss: 0.0092\n",
            "Epoch 00029: val_loss did not improve from 0.15094\n",
            "35/35 [==============================] - 10s 300ms/step - dice_coef: 0.9909 - loss: 0.0092 - val_dice_coef: 0.8363 - val_loss: 0.1801 - lr: 8.0000e-04\n",
            "Epoch 30/30\n",
            "35/35 [==============================] - ETA: 0s - dice_coef: 0.9911 - loss: 0.0090\n",
            "Epoch 00030: val_loss did not improve from 0.15094\n",
            "35/35 [==============================] - 11s 302ms/step - dice_coef: 0.9911 - loss: 0.0090 - val_dice_coef: 0.8474 - val_loss: 0.1666 - lr: 8.0000e-04\n"
          ],
          "name": "stdout"
        }
      ]
    },
    {
      "cell_type": "code",
      "metadata": {
        "id": "Vj6D5YnGJ-nq",
        "colab_type": "code",
        "colab": {}
      },
      "source": [
        "if(train):\n",
        "  model.load_weights(os.path.join('/content/gdrive/My Drive/TPU/'+name+'last_checkpoint.hdf5'))\n"
      ],
      "execution_count": 0,
      "outputs": []
    },
    {
      "cell_type": "code",
      "metadata": {
        "id": "Z12tlBDr9E8O",
        "colab_type": "code",
        "outputId": "1752dd29-28dd-4f49-95c1-550b14334682",
        "colab": {
          "base_uri": "https://localhost:8080/",
          "height": 51
        }
      },
      "source": [
        "model.evaluate(X_tests[0:768,:,:,:],Y_tests[0:768,:,:,:])"
      ],
      "execution_count": 37,
      "outputs": [
        {
          "output_type": "stream",
          "text": [
            "24/24 [==============================] - 0s 17ms/step - dice_coef: 0.8349 - loss: 0.4781\n"
          ],
          "name": "stdout"
        },
        {
          "output_type": "execute_result",
          "data": {
            "text/plain": [
              "[0.47805655002593994, 0.8348942995071411]"
            ]
          },
          "metadata": {
            "tags": []
          },
          "execution_count": 37
        }
      ]
    },
    {
      "cell_type": "markdown",
      "metadata": {
        "id": "btm9bCkXMg-H",
        "colab_type": "text"
      },
      "source": [
        "Save weights on Gdrive. Ajust destination File as desired"
      ]
    },
    {
      "cell_type": "markdown",
      "metadata": {
        "id": "ZfVj9RxwNSx9",
        "colab_type": "text"
      },
      "source": [
        "**Chart Accuracy and Loss**"
      ]
    },
    {
      "cell_type": "code",
      "metadata": {
        "id": "ta8svhOnN0s2",
        "colab_type": "code",
        "colab": {
          "base_uri": "https://localhost:8080/",
          "height": 214
        },
        "outputId": "315a2051-3dca-483e-f80a-65d4c908601e"
      },
      "source": [
        "if(train):\n",
        "  loss = history.history['loss']\n",
        "  val_loss=history.history['val_loss']\n",
        "  acc=history.history['dice_coef']\n",
        "\n",
        "  epochs = range(1, len(loss) + 1)\n",
        "\n",
        "  plt.figure(figsize=(4.5, 2.5))\n",
        "  plt.plot(epochs, loss, 'b', label='Training loss')\n",
        "  # bo is blue dots\n",
        "  plt.plot(epochs, val_loss, 'bo', label='Test loss')\n",
        "  # b is for \"solid blue line\"\n",
        "  plt.title('Training and test loss')\n",
        "  plt.xlabel('Epochs')\n",
        "  plt.ylabel('Loss')\n",
        "  plt.legend()\n",
        "\n",
        "  #plt.show()\n",
        "  plt.savefig(os.path.join('/content/gdrive/My Drive/FIG','loss'+name+'.png'),dpi=600)\n"
      ],
      "execution_count": 38,
      "outputs": [
        {
          "output_type": "display_data",
          "data": {
            "image/png": "[encoded data removed]",
            "text/plain": [
              "<Figure size 324x180 with 1 Axes>"
            ]
          },
          "metadata": {
            "tags": [],
            "needs_background": "light"
          }
        }
      ]
    },
    {
      "cell_type": "code",
      "metadata": {
        "id": "e7Edl_4DOET0",
        "colab_type": "code",
        "colab": {
          "base_uri": "https://localhost:8080/",
          "height": 214
        },
        "outputId": "0ef11c55-80ef-4c93-d45e-170da47d5812"
      },
      "source": [
        "if(train):\n",
        "  loss = history.history['loss']\n",
        "  acc=history.history['dice_coef']\n",
        "  val_acc=history.history['val_dice_coef']\n",
        "\n",
        "  epochs = range(1, len(acc) + 1)\n",
        "\n",
        "  plt.figure(figsize=(4.5, 2.5))\n",
        "  plt.plot(epochs, acc, 'b', label='Dice')\n",
        "  # bo is blue dots\n",
        "  plt.plot(epochs, val_acc, 'bo', label='Test dice')\n",
        "  # b is for \"solid blue line\"\n",
        "  plt.title('Training and test Dice')\n",
        "  plt.xlabel('Epochs')\n",
        "  plt.ylabel('Acc')\n",
        "  plt.legend()\n",
        "\n",
        "  #plt.show()\n",
        "  plt.savefig(os.path.join('/content/gdrive/My Drive/FIG','hist'+name+'.png'),dpi=600)"
      ],
      "execution_count": 39,
      "outputs": [
        {
          "output_type": "display_data",
          "data": {
            "image/png": "[encoded data removed]",
            "text/plain": [
              "<Figure size 324x180 with 1 Axes>"
            ]
          },
          "metadata": {
            "tags": [],
            "needs_background": "light"
          }
        }
      ]
    },
    {
      "cell_type": "markdown",
      "metadata": {
        "id": "KqzTU_uoOICD",
        "colab_type": "text"
      },
      "source": [
        "### Comprehensive visual check"
      ]
    },
    {
      "cell_type": "code",
      "metadata": {
        "id": "hglC8YtD0Qd3",
        "colab_type": "code",
        "outputId": "aaa12b75-1959-447c-d4df-ac002a26146a",
        "colab": {
          "base_uri": "https://localhost:8080/",
          "height": 34
        }
      },
      "source": [
        "test_s=int(X_testc.shape[0])\n",
        "test_s=test_s-test_s%8\n",
        "test_s"
      ],
      "execution_count": 40,
      "outputs": [
        {
          "output_type": "execute_result",
          "data": {
            "text/plain": [
              "112"
            ]
          },
          "metadata": {
            "tags": []
          },
          "execution_count": 40
        }
      ]
    },
    {
      "cell_type": "code",
      "metadata": {
        "id": "MTsLU6aHfH6r",
        "colab_type": "code",
        "colab": {}
      },
      "source": [
        "smooth=1e-07\n",
        "\n",
        "def np_dice_coef(y_true, y_pred):\n",
        "    y_true_f = y_true.flatten()\n",
        "    y_pred_f = y_pred.flatten()\n",
        "    intersection = np.sum(y_true_f * y_pred_f)\n",
        "    return ( (2. * intersection + smooth) / \n",
        "             (np.sum(y_true_f) + np.sum(y_pred_f) + smooth) )"
      ],
      "execution_count": 0,
      "outputs": []
    },
    {
      "cell_type": "code",
      "metadata": {
        "id": "EBYjyrHlRdAY",
        "colab_type": "code",
        "colab": {}
      },
      "source": [
        "def np_iou(y_true, y_pred):\n",
        "    y_true_f = y_true.flatten()\n",
        "    y_pred_f = y_pred.flatten()\n",
        "    intersection = np.sum(y_true_f * y_pred_f)\n",
        "    return ( ( intersection + smooth) / \n",
        "             (np.sum(y_true_f) + np.sum(y_pred_f) - intersection + smooth) )\n",
        "  \n",
        "  \n",
        "  \n",
        "    "
      ],
      "execution_count": 0,
      "outputs": []
    },
    {
      "cell_type": "markdown",
      "metadata": {
        "id": "_VDf5M6OONHg",
        "colab_type": "text"
      },
      "source": [
        "Acquiring scores for the validation set:"
      ]
    },
    {
      "cell_type": "code",
      "metadata": {
        "id": "jITi6M5if30f",
        "colab_type": "code",
        "colab": {}
      },
      "source": [
        "from skimage.morphology import erosion, dilation, opening, closing, white_tophat"
      ],
      "execution_count": 0,
      "outputs": []
    },
    {
      "cell_type": "code",
      "metadata": {
        "id": "RRzXlmOVf3Ux",
        "colab_type": "code",
        "colab": {}
      },
      "source": [
        "from skimage.feature import canny\n",
        "from skimage import color"
      ],
      "execution_count": 0,
      "outputs": []
    },
    {
      "cell_type": "code",
      "metadata": {
        "id": "C-1b6SWob-nv",
        "colab_type": "code",
        "outputId": "f5a7f23b-c842-4fed-acd7-70845892449c",
        "colab": {
          "base_uri": "https://localhost:8080/",
          "height": 34
        }
      },
      "source": [
        "X_testc.shape"
      ],
      "execution_count": 45,
      "outputs": [
        {
          "output_type": "execute_result",
          "data": {
            "text/plain": [
              "(119, 128, 128, 3)"
            ]
          },
          "metadata": {
            "tags": []
          },
          "execution_count": 45
        }
      ]
    },
    {
      "cell_type": "code",
      "metadata": {
        "id": "C-MAss7tr_-h",
        "colab_type": "code",
        "outputId": "69653117-e788-4690-f7f5-7be7c90f252f",
        "colab": {
          "base_uri": "https://localhost:8080/",
          "height": 660,
          "referenced_widgets": [
            "549d0ac9cf16461b8f66cab2f0640392",
            "91553bfe5de6448eb8d0cb97140058b1",
            "5a6889bb9e6e4ee8934f467a2dd8108d",
            "8383017419c1402cb957dccd9805db42",
            "eed15ce79cc24af3a655035d804b8627",
            "4513a75fd83049f6bf5bba5473a5f4e3",
            "bf3ae128d8124f3eae993a1e33dcbc29",
            "16217d3d86ba40598494ae3e617af5fb"
          ]
        }
      },
      "source": [
        "%%time\n",
        "pred_dice=np.empty((test_s), dtype=np.float32)\n",
        "pred_iou=np.empty((test_s), dtype=np.float32)\n",
        "\n",
        "\n",
        "#sess = K.get_session()\n",
        "\n",
        "batch_X = X_testc[0:test_s]\n",
        "batch_y = Y_testc[0:test_s]\n",
        "print (batch_X.shape)\n",
        "    \n",
        "predv = (model.predict(batch_X,batch_size=test_s)[...,0]>0.5).astype(np.float32)\n",
        "corrv= (batch_y)[ ..., 0].astype(np.float32)\n",
        "predv1=predv.copy()\n",
        "\n",
        "\n",
        "for i in tqdm_notebook(range(predv.shape[0])):\n",
        "    #print('image #{}'.format(i))\n",
        "    img = X_test[i]\n",
        "    \n",
        "    pred = predv[i]\n",
        "    corr = corrv[i]\n",
        "    label_pc = skimage.measure.label(pred, connectivity=pred.ndim)\n",
        "    props_pc = skimage.measure.regionprops(label_pc)\n",
        "    sz=len(props_pc)\n",
        "    if(sz)!=0:\n",
        "      areap=[props_pc[i].area for i in range(sz)]\n",
        "      k=np.argmax(areap)\n",
        "      #print(k,areap)\n",
        "      predv1[i]=np.equal(label_pc,k+1).astype(int).astype(np.float32)\n",
        "    pred1= predv1[i]\n",
        "    cur_dice = np_dice_coef(pred1, corr)\n",
        "    cur_iou = np_iou(pred1,corr)\n",
        "    #print(cur_dice)\n",
        "    pred_dice[i]=(cur_dice)\n",
        "    pred_iou[i]=cur_iou\n",
        "    \n",
        "    \n",
        "d_worst=np.amin(pred_dice)\n",
        "d_best=np.amax(pred_dice)\n",
        "d_mean=np.mean(pred_dice)\n",
        "d_std=np.std(pred_dice)\n",
        "print(\"Dice mean=\",d_mean, \" Std=\",d_std, \" best=\",d_best,\" worst=\",d_worst)\n",
        "\n",
        "i_worst=np.amin(pred_iou)\n",
        "i_best=np.amax(pred_iou)\n",
        "i_mean=np.mean(pred_iou)\n",
        "i_std=np.std(pred_iou)\n",
        "print(\"IOU mean=\",i_mean, \" Std=\",i_std, \" best=\",i_best,\" worst=\",i_worst)\n",
        "\n",
        "ix_best=np.argmax(pred_dice)\n",
        "ix_worst=np.argmin(pred_dice)\n",
        "\n",
        "j=0\n",
        "for i in [ix_best,ix_worst]:\n",
        "    print('image #{}'.format(i))\n",
        "    img = X_test[i]\n",
        "    pred1 = predv1[i]\n",
        "    corr = corrv[i]\n",
        "    \n",
        "    print(pred_dice[i])\n",
        "    fig = plt.figure(figsize=(9, 4))\n",
        "    ax = fig.add_subplot(1, 3, 1)\n",
        "    edgesp = canny(pred1)\n",
        "    edgesp=1.0-dilation(edgesp)\n",
        "    edgesp = color.gray2rgb(1.0*edgesp)\n",
        "    ax.imshow(img*edgesp)\n",
        "    ax.set_title('Predicted')\n",
        "    ax = fig.add_subplot(1, 3, 2)\n",
        "    edgesc = canny(corr)\n",
        "    edgesc=1.0-dilation(edgesc)\n",
        "    edgesc = color.gray2rgb(1.0*edgesc)\n",
        "    ax.imshow(img*edgesc)\n",
        "    ax.set_title('Correct')\n",
        "    ax = fig.add_subplot(1, 3, 3)\n",
        "    #ax.imshow(img)\n",
        "    ax.imshow(img)\n",
        "    ax.set_title('Image')\n",
        "    #plt.show()\n",
        "    fig.savefig(os.path.join('/content/gdrive/My Drive/FIG','img'+str(j)+name+'.png'),dpi=600)\n",
        "    j+=1\n",
        "    \n"
      ],
      "execution_count": 46,
      "outputs": [
        {
          "output_type": "stream",
          "text": [
            "(112, 128, 128, 3)\n"
          ],
          "name": "stdout"
        },
        {
          "output_type": "stream",
          "text": [
            "/usr/local/lib/python3.6/dist-packages/ipykernel_launcher.py:16: TqdmDeprecationWarning: This function will be removed in tqdm==5.0.0\n",
            "Please use `tqdm.notebook.tqdm` instead of `tqdm.tqdm_notebook`\n",
            "  app.launch_new_instance()\n"
          ],
          "name": "stderr"
        },
        {
          "output_type": "display_data",
          "data": {
            "application/vnd.jupyter.widget-view+json": {
              "model_id": "549d0ac9cf16461b8f66cab2f0640392",
              "version_minor": 0,
              "version_major": 2
            },
            "text/plain": [
              "HBox(children=(FloatProgress(value=0.0, max=112.0), HTML(value='')))"
            ]
          },
          "metadata": {
            "tags": []
          }
        },
        {
          "output_type": "stream",
          "text": [
            "\n",
            "Dice mean= 0.84778196  Std= 0.08937031  best= 0.9663544  worst= 0.61766887\n",
            "IOU mean= 0.74562347  Std= 0.12738493  best= 0.9348992  worst= 0.44683138\n",
            "image #12\n",
            "0.9663544\n",
            "image #3\n",
            "0.61766887\n",
            "CPU times: user 5.75 s, sys: 90.7 ms, total: 5.84 s\n",
            "Wall time: 11.6 s\n"
          ],
          "name": "stdout"
        },
        {
          "output_type": "display_data",
          "data": {
            "image/png": "[encoded data removed]",
            "text/plain": [
              "<Figure size 648x288 with 3 Axes>"
            ]
          },
          "metadata": {
            "tags": [],
            "needs_background": "light"
          }
        },
        {
          "output_type": "display_data",
          "data": {
            "image/png": "[encoded data removed]",
            "text/plain": [
              "<Figure size 648x288 with 3 Axes>"
            ]
          },
          "metadata": {
            "tags": [],
            "needs_background": "light"
          }
        }
      ]
    },
    {
      "cell_type": "code",
      "metadata": {
        "id": "E4tnfxZtRDRP",
        "colab_type": "code",
        "outputId": "bff22788-a5f5-43ec-d878-09baa9ad552c",
        "colab": {
          "base_uri": "https://localhost:8080/",
          "height": 68
        }
      },
      "source": [
        "%%time\n",
        "\n",
        "batch_X = X_testc[0:test_s]\n",
        "batch_y = Y_testc[0:test_s]\n",
        "print (batch_X.shape)\n",
        "    \n",
        "predv = (model.predict(batch_X,batch_size=test_s)[...,0]>0.5).astype(np.float32)\n",
        "corrv= (batch_y)[ ..., 0].astype(np.float32)"
      ],
      "execution_count": 47,
      "outputs": [
        {
          "output_type": "stream",
          "text": [
            "(112, 128, 128, 3)\n",
            "CPU times: user 247 ms, sys: 33.4 ms, total: 280 ms\n",
            "Wall time: 554 ms\n"
          ],
          "name": "stdout"
        }
      ]
    },
    {
      "cell_type": "code",
      "metadata": {
        "id": "TMie7BywRofc",
        "colab_type": "code",
        "outputId": "e5d537fe-b237-453a-f1a0-5d14105f607e",
        "colab": {
          "base_uri": "https://localhost:8080/",
          "height": 134,
          "referenced_widgets": [
            "94eeb5e310704f0faeeb6f2909f5e577",
            "485c21e8d1d744c4a0eea4a4a9e486bd",
            "9d5255f2b7404686989b9c3fdb9eaae2",
            "6eaaf08209be4f51a8704935e08facd4",
            "f88651e8454947df964303901c032baf",
            "985e9d3cdd2a424093fd324946efe480",
            "ec9df900c66943e7bb60e15492839b8c",
            "aef3fa80d4ad46b792875f14a099d853"
          ]
        }
      },
      "source": [
        "cup_rr= np.empty((test_s), dtype=np.float32)\n",
        "cup_dc= np.empty((test_s), dtype=np.float32)\n",
        "cup_ac= np.empty((test_s), dtype=np.float32)\n",
        "cup_ap= np.empty((test_s), dtype=np.float32)\n",
        "\n",
        "\n",
        "predc = predv[0, ...].copy()\n",
        "predv1 = predv[...].copy()\n",
        "corrc= corrv[0, ...].copy()\n",
        "print (predc.shape)\n",
        "\n",
        "for i in tqdm_notebook(range(test_s), leave=True):\n",
        "    \n",
        "    predc = predv[i]\n",
        "    corrc = corrv[i]\n",
        "    \n",
        "    label_pc = skimage.measure.label(predc, connectivity=predc.ndim)\n",
        "    props_pc = skimage.measure.regionprops(label_pc)\n",
        "    \n",
        "    label_cc = skimage.measure.label(corrc, connectivity=corrc.ndim)\n",
        "    props_cc = skimage.measure.regionprops(label_cc)\n",
        "    \n",
        "    sz=len(props_pc)\n",
        "    if(sz)!=0:\n",
        "      areap=[props_pc[i].area for i in range(sz)]\n",
        "      \n",
        "      k=np.argmax(areap)\n",
        "      #print(k,areap)\n",
        "      predv1[i]=np.equal(label_pc,k+1).astype(int).astype(np.float32)\n",
        "    \n",
        "      xcp = props_pc[k].centroid[0] #x center\n",
        "      ycp = props_pc[k].centroid[1] #y_center\n",
        "      ap = props_pc[k].area\n",
        "    else:\n",
        "      xpc=0\n",
        "      ypc=0\n",
        "      ac=0\n",
        "    \n",
        "    xcc = props_cc[0].centroid[0] #x center\n",
        "    ycc = props_cc[0].centroid[1] #y_center\n",
        "    ac = props_cc[0].area\n",
        "\n",
        "\n",
        "    \n",
        "    if (ap>ac):\n",
        "      ar=ac/ap\n",
        "    else:\n",
        "      ar=ap/ac\n",
        "      \n",
        "    dist=math.sqrt((xcp-xcc)*(xcp-xcc)+(ycp-ycc)*(ycp-ycc))\n",
        "    cup_rr[i]=math.sqrt(ar)\n",
        "    cup_dc[i]=dist\n",
        "    cup_ac[i]=ac\n",
        "    cup_ap[i]=ap"
      ],
      "execution_count": 48,
      "outputs": [
        {
          "output_type": "stream",
          "text": [
            "(128, 128)\n"
          ],
          "name": "stdout"
        },
        {
          "output_type": "stream",
          "text": [
            "/usr/local/lib/python3.6/dist-packages/ipykernel_launcher.py:12: TqdmDeprecationWarning: This function will be removed in tqdm==5.0.0\n",
            "Please use `tqdm.notebook.tqdm` instead of `tqdm.tqdm_notebook`\n",
            "  if sys.path[0] == '':\n"
          ],
          "name": "stderr"
        },
        {
          "output_type": "display_data",
          "data": {
            "application/vnd.jupyter.widget-view+json": {
              "model_id": "94eeb5e310704f0faeeb6f2909f5e577",
              "version_minor": 0,
              "version_major": 2
            },
            "text/plain": [
              "HBox(children=(FloatProgress(value=0.0, max=112.0), HTML(value='')))"
            ]
          },
          "metadata": {
            "tags": []
          }
        },
        {
          "output_type": "stream",
          "text": [
            "\n"
          ],
          "name": "stdout"
        }
      ]
    },
    {
      "cell_type": "code",
      "metadata": {
        "id": "t97oQ7wAqclb",
        "colab_type": "code",
        "outputId": "50aff97b-b043-4782-d68e-c9a915a85204",
        "colab": {
          "base_uri": "https://localhost:8080/",
          "height": 51
        }
      },
      "source": [
        "#print(cup_rr)\n",
        "#print(cup_dc)\n",
        "print('best radii ratio= {:0.2f}, worst radii ratio= {:0.2f}, worst center distance= {:0.2f}, best center distance= {:0.2f}'.format(np.amax(cup_rr),np.amin(cup_rr),np.amax(cup_dc),np.amin(cup_dc)))\n",
        "bt90=cup_rr>.9\n",
        "print('Percentage of images with less than 10% radius error ={:0.2f}'.format(sum(bt90)/test_s))"
      ],
      "execution_count": 49,
      "outputs": [
        {
          "output_type": "stream",
          "text": [
            "best radii ratio= 1.00, worst radii ratio= 0.64, worst center distance= 8.84, best center distance= 0.24\n",
            "Percentage of images with less than 10% radius error =0.44\n"
          ],
          "name": "stdout"
        }
      ]
    },
    {
      "cell_type": "markdown",
      "metadata": {
        "colab_type": "text",
        "id": "ntk_NOsz8ST5"
      },
      "source": [
        "\n",
        "\n",
        "###Validation RIM"
      ]
    },
    {
      "cell_type": "code",
      "metadata": {
        "id": "9WJGAme4KlzH",
        "colab_type": "code",
        "outputId": "ec865d93-1656-4e59-f16d-a4e72ce31a27",
        "colab": {
          "base_uri": "https://localhost:8080/",
          "height": 34
        }
      },
      "source": [
        "test_s=int(X_test_rim.shape[0])\n",
        "#test_s=test_s-test_s%8\n",
        "test_s"
      ],
      "execution_count": 50,
      "outputs": [
        {
          "output_type": "execute_result",
          "data": {
            "text/plain": [
              "40"
            ]
          },
          "metadata": {
            "tags": []
          },
          "execution_count": 50
        }
      ]
    },
    {
      "cell_type": "code",
      "metadata": {
        "colab_type": "code",
        "id": "CpCoo2imkL5O",
        "outputId": "e5c07442-e5e0-446d-b4ee-98c9d6141dc5",
        "colab": {
          "base_uri": "https://localhost:8080/",
          "height": 626,
          "referenced_widgets": [
            "87b451d2f58d44b9953683bb58f36c50",
            "310e5b8d99e240cbb5ab1ac09109fd52",
            "d6530b5f767343b5b62bbf60b9d20598",
            "dd84f9b054e1404aac61da5d5cd8bba9",
            "16b7b02d1ece4061945d35f67c550702",
            "3c8fc047a5d447489cc86a15aa22178d",
            "082ec3368a0d4121ae4e616ea0be32a5",
            "650a5111195a4c81b5412b4bc786a246"
          ]
        }
      },
      "source": [
        "\n",
        "pred_dice=np.empty((test_s), dtype=np.float32)\n",
        "pred_iou=np.empty((test_s), dtype=np.float32)\n",
        "\n",
        "\n",
        "#sess = K.get_session()\n",
        "\n",
        "batch_X = X_test_rim[0:test_s]\n",
        "batch_y = Y_test_rim[0:test_s]\n",
        "print (batch_X.shape)\n",
        "    \n",
        "predv = (model.predict(batch_X,batch_size=test_s)[...,0]>0.5).astype(np.float32)\n",
        "corrv= (batch_y)[ ..., 0].astype(np.float32)\n",
        "predv1=predv.copy()\n",
        "\n",
        "for i in tqdm_notebook(range(predv.shape[0])):\n",
        "    #print('image #{}'.format(i))\n",
        "    img = X_test_rim[i]\n",
        "    \n",
        "    pred = predv[i]\n",
        "    corr = corrv[i]\n",
        "    label_pc = skimage.measure.label(pred, connectivity=pred.ndim)\n",
        "    props_pc = skimage.measure.regionprops(label_pc)\n",
        "    sz=len(props_pc)\n",
        "    if(sz)!=0:\n",
        "      areap=[props_pc[i].area for i in range(sz)]\n",
        "      k=np.argmax(areap)\n",
        "      #print(k,areap)\n",
        "      predv1[i]=np.equal(label_pc,k+1).astype(int).astype(np.float32)\n",
        "    pred1= predv1[i]\n",
        "    cur_dice = np_dice_coef(pred1, corr)\n",
        "    cur_iou = np_iou(pred1,corr)\n",
        "    #print(cur_dice)\n",
        "    pred_dice[i]=(cur_dice)\n",
        "    pred_iou[i]=cur_iou\n",
        "    \n",
        "    \n",
        "d_worst=np.amin(pred_dice)\n",
        "d_best=np.amax(pred_dice)\n",
        "d_mean=np.mean(pred_dice)\n",
        "d_std=np.std(pred_dice)\n",
        "print(\"Dice mean=\",d_mean, \" Std=\",d_std, \" best=\",d_best,\" worst=\",d_worst)\n",
        "\n",
        "i_worst=np.amin(pred_iou)\n",
        "i_best=np.amax(pred_iou)\n",
        "i_mean=np.mean(pred_iou)\n",
        "i_std=np.std(pred_iou)\n",
        "print(\"IOU mean=\",i_mean, \" Std=\",i_std, \" best=\",i_best,\" worst=\",i_worst)\n",
        "\n",
        "ix_best=np.argmax(pred_dice)\n",
        "ix_worst=np.argmin(pred_dice)\n",
        "\n",
        "j=0\n",
        "for i in [ix_best,ix_worst]:\n",
        "    print('image #{}'.format(i))\n",
        "    img = X_test_rim[i]\n",
        "    pred = predv1[i]\n",
        "    corr = corrv[i]\n",
        "    \n",
        "    print(pred_dice[i])\n",
        "    fig = plt.figure(figsize=(9, 4))\n",
        "    ax = fig.add_subplot(1, 3, 1)\n",
        "    edgesp = canny(pred)\n",
        "    edgesp=1.0-dilation(edgesp)\n",
        "    edgesp = color.gray2rgb(1.0*edgesp)\n",
        "    ax.imshow(img*edgesp)\n",
        "    ax.set_title('Predicted')\n",
        "    ax = fig.add_subplot(1, 3, 2)\n",
        "    edgesc = canny(corr)\n",
        "    edgesc=1.0-dilation(edgesc)\n",
        "    edgesc = color.gray2rgb(1.0*edgesc)\n",
        "    ax.imshow(img*edgesc)\n",
        "    \n",
        "    ax.set_title('Correct')\n",
        "    ax = fig.add_subplot(1, 3, 3)\n",
        "    #ax.imshow(img)\n",
        "    ax.imshow(img)\n",
        "    ax.set_title('Image')\n",
        "    #plt.show()\n",
        "    fig.savefig(os.path.join('/content/gdrive/My Drive/FIG','imgRIM'+str(j)+name+'.png'),dpi=600)\n",
        "    j+=1\n",
        "    \n"
      ],
      "execution_count": 51,
      "outputs": [
        {
          "output_type": "stream",
          "text": [
            "(40, 128, 128, 3)\n"
          ],
          "name": "stdout"
        },
        {
          "output_type": "stream",
          "text": [
            "/usr/local/lib/python3.6/dist-packages/ipykernel_launcher.py:16: TqdmDeprecationWarning: This function will be removed in tqdm==5.0.0\n",
            "Please use `tqdm.notebook.tqdm` instead of `tqdm.tqdm_notebook`\n",
            "  app.launch_new_instance()\n"
          ],
          "name": "stderr"
        },
        {
          "output_type": "display_data",
          "data": {
            "application/vnd.jupyter.widget-view+json": {
              "model_id": "87b451d2f58d44b9953683bb58f36c50",
              "version_minor": 0,
              "version_major": 2
            },
            "text/plain": [
              "HBox(children=(FloatProgress(value=0.0, max=40.0), HTML(value='')))"
            ]
          },
          "metadata": {
            "tags": []
          }
        },
        {
          "output_type": "stream",
          "text": [
            "\n",
            "Dice mean= 0.8264328  Std= 0.08694417  best= 0.9652579  worst= 0.61906695\n",
            "IOU mean= 0.71324855  Std= 0.12244753  best= 0.93284875  worst= 0.44829613\n",
            "image #37\n",
            "0.9652579\n",
            "image #5\n",
            "0.61906695\n"
          ],
          "name": "stdout"
        },
        {
          "output_type": "display_data",
          "data": {
            "image/png": "[encoded data removed]",
            "text/plain": [
              "<Figure size 648x288 with 3 Axes>"
            ]
          },
          "metadata": {
            "tags": [],
            "needs_background": "light"
          }
        },
        {
          "output_type": "display_data",
          "data": {
            "image/png": "[encoded data removed]",
            "text/plain": [
              "<Figure size 648x288 with 3 Axes>"
            ]
          },
          "metadata": {
            "tags": [],
            "needs_background": "light"
          }
        }
      ]
    },
    {
      "cell_type": "code",
      "metadata": {
        "id": "GNzaMJbKjIop",
        "colab_type": "code",
        "colab": {
          "base_uri": "https://localhost:8080/",
          "height": 134,
          "referenced_widgets": [
            "5ac0de477a354ff79e5cb26c57b5eadd",
            "8361d05544a942ec96a748eb40d91b58",
            "a1870a9e25b34f489dc565ac46befa1f",
            "f8bea9357ae14806ac1559ad225a73df",
            "1ed19136d18d45029aaab6a0a1fdbc5b",
            "8ca58ef4ca854ec6948fe3cb2252d5f9",
            "e04677a570714d28965a9ead10afdc3a",
            "7deb0e061b2e489dbfa2ca7b21f3fc18"
          ]
        },
        "outputId": "f0088527-cfbe-4dd3-b291-919cfa1c8978"
      },
      "source": [
        "cup_rr= np.empty((test_s), dtype=np.float32)\n",
        "cup_dc= np.empty((test_s), dtype=np.float32)\n",
        "cup_ac= np.empty((test_s), dtype=np.float32)\n",
        "cup_ap= np.empty((test_s), dtype=np.float32)\n",
        "\n",
        "\n",
        "predc = predv[0, ...].copy()\n",
        "corrc= corrv[0, ...].copy()\n",
        "print (predc.shape)\n",
        "\n",
        "for i in tqdm_notebook(range(test_s), leave=True):\n",
        "    \n",
        "    predc = predv1[i]\n",
        "    corrc = corrv[i]\n",
        "    \n",
        "    label_pc = skimage.measure.label(predc, connectivity=predc.ndim)\n",
        "    props_pc = skimage.measure.regionprops(label_pc)\n",
        "    \n",
        "    label_cc = skimage.measure.label(corrc, connectivity=corrc.ndim)\n",
        "    props_cc = skimage.measure.regionprops(label_cc)\n",
        "    \n",
        "    sz=len(props_pc)\n",
        "    if(sz)!=0:\n",
        "      areap=[props_pc[i].area for i in range(sz)]\n",
        "      #print(sz,areap)\n",
        "      k=np.argmax(areap)\n",
        "    \n",
        "      xcp = props_pc[k].centroid[0] #x center\n",
        "      ycp = props_pc[k].centroid[1] #y_center\n",
        "      ap = props_pc[k].area\n",
        "    else:\n",
        "      xpc=0\n",
        "      ypc=0\n",
        "      ac=0\n",
        "    \n",
        "    xcc = props_cc[0].centroid[0] #x center\n",
        "    ycc = props_cc[0].centroid[1] #y_center\n",
        "    ac = props_cc[0].area\n",
        "\n",
        "\n",
        "    \n",
        "    if (ap>ac):\n",
        "      ar=ac/ap\n",
        "    else:\n",
        "      ar=ap/ac\n",
        "      \n",
        "    dist=math.sqrt((xcp-xcc)*(xcp-xcc)+(ycp-ycc)*(ycp-ycc))\n",
        "    cup_rr[i]=math.sqrt(ar)\n",
        "    cup_dc[i]=dist\n",
        "    cup_ac[i]=ac\n",
        "    cup_ap[i]=ap"
      ],
      "execution_count": 52,
      "outputs": [
        {
          "output_type": "stream",
          "text": [
            "(128, 128)\n"
          ],
          "name": "stdout"
        },
        {
          "output_type": "stream",
          "text": [
            "/usr/local/lib/python3.6/dist-packages/ipykernel_launcher.py:11: TqdmDeprecationWarning: This function will be removed in tqdm==5.0.0\n",
            "Please use `tqdm.notebook.tqdm` instead of `tqdm.tqdm_notebook`\n",
            "  # This is added back by InteractiveShellApp.init_path()\n"
          ],
          "name": "stderr"
        },
        {
          "output_type": "display_data",
          "data": {
            "application/vnd.jupyter.widget-view+json": {
              "model_id": "5ac0de477a354ff79e5cb26c57b5eadd",
              "version_minor": 0,
              "version_major": 2
            },
            "text/plain": [
              "HBox(children=(FloatProgress(value=0.0, max=40.0), HTML(value='')))"
            ]
          },
          "metadata": {
            "tags": []
          }
        },
        {
          "output_type": "stream",
          "text": [
            "\n"
          ],
          "name": "stdout"
        }
      ]
    },
    {
      "cell_type": "code",
      "metadata": {
        "id": "hYrdV8yIjKee",
        "colab_type": "code",
        "colab": {
          "base_uri": "https://localhost:8080/",
          "height": 85
        },
        "outputId": "375e72c4-c3d9-4d53-98ae-6ce8c3f0ca58"
      },
      "source": [
        "print('ORIGINAL PREDS')\n",
        "print('best radii ratio= {:0.2f}, worst radii ratio= {:0.2f}, worst center distance= {:0.2f}, best center distance= {:0.2f}'.format(np.amax(cup_rr),np.amin(cup_rr),np.amax(cup_dc),np.amin(cup_dc)))\n",
        "bt90=cup_rr>.85\n",
        "print('Percentage of images with less than 15% radius error ={:0.2f}'.format(sum(bt90)/test_s))\n",
        "bt90=cup_rr>.9\n",
        "print('Percentage of images with less than 10% radius error ={:0.2f}'.format(sum(bt90)/test_s))"
      ],
      "execution_count": 53,
      "outputs": [
        {
          "output_type": "stream",
          "text": [
            "ORIGINAL PREDS\n",
            "best radii ratio= 1.00, worst radii ratio= 0.64, worst center distance= 8.84, best center distance= 0.26\n",
            "Percentage of images with less than 15% radius error =0.53\n",
            "Percentage of images with less than 10% radius error =0.33\n"
          ],
          "name": "stdout"
        }
      ]
    },
    {
      "cell_type": "markdown",
      "metadata": {
        "id": "sM3CRUAQPu9V",
        "colab_type": "text"
      },
      "source": [
        "###Validation DRI"
      ]
    },
    {
      "cell_type": "code",
      "metadata": {
        "id": "UR6jHFF-QAsM",
        "colab_type": "code",
        "outputId": "7ca48176-e4e8-49fd-8366-3939f79870ef",
        "colab": {
          "base_uri": "https://localhost:8080/",
          "height": 34
        }
      },
      "source": [
        "test_s=int(X_test_dri.shape[0])\n",
        "#test_s=test_s-test_s%8\n",
        "test_s"
      ],
      "execution_count": 54,
      "outputs": [
        {
          "output_type": "execute_result",
          "data": {
            "text/plain": [
              "13"
            ]
          },
          "metadata": {
            "tags": []
          },
          "execution_count": 54
        }
      ]
    },
    {
      "cell_type": "code",
      "metadata": {
        "colab_type": "code",
        "id": "ziRcdDQBkWzf",
        "outputId": "5fff2855-4f0a-4ed3-ae0d-973bc90e29ed",
        "colab": {
          "base_uri": "https://localhost:8080/",
          "height": 626,
          "referenced_widgets": [
            "aefd565bd5404eea8983b53b81afa62b",
            "712a26753e774150a46d7c068902aef2",
            "9442024350da4487bd9bdd4ff4ff5074",
            "a1ed5e81ca4e420c91f039e13a2d8a7e",
            "08eab2c2e1994a8182d20d3d8a9264e7",
            "16d533c8187c4f6db6b3e7844131a77a",
            "4fe7ce6057c94c77a6439d638d4af06d",
            "a009722d97234e769e05cd957da32e49"
          ]
        }
      },
      "source": [
        "#%%time\n",
        "pred_dice=np.empty((test_s), dtype=np.float32)\n",
        "pred_iou=np.empty((test_s), dtype=np.float32)\n",
        "\n",
        "\n",
        "#sess = K.get_session()\n",
        "\n",
        "batch_X = X_test_dri[0:test_s]\n",
        "batch_y = Y_test_dri[0:test_s]\n",
        "print (batch_X.shape)\n",
        "    \n",
        "predv = (model.predict(batch_X,batch_size=test_s)[...,0]>0.5).astype(np.float32)\n",
        "corrv= (batch_y)[ ..., 0].astype(np.float32)\n",
        "predv1=predv.copy()\n",
        "\n",
        "for i in tqdm_notebook(range(predv.shape[0])):\n",
        "    #print('image #{}'.format(i))\n",
        "    img = X_test_dri[i]\n",
        "    \n",
        "    pred = predv[i]\n",
        "    corr = corrv[i]\n",
        "    label_pc = skimage.measure.label(pred, connectivity=pred.ndim)\n",
        "    props_pc = skimage.measure.regionprops(label_pc)\n",
        "    sz=len(props_pc)\n",
        "    if(sz)!=0:\n",
        "      areap=[props_pc[i].area for i in range(sz)]\n",
        "      k=np.argmax(areap)\n",
        "      #print(k,areap)\n",
        "      predv1[i]=np.equal(label_pc,k+1).astype(int).astype(np.float32)\n",
        "    pred1= predv1[i]\n",
        "    cur_dice = np_dice_coef(pred1, corr)\n",
        "    cur_iou = np_iou(pred1,corr)\n",
        "    #print(cur_dice)\n",
        "    pred_dice[i]=(cur_dice)\n",
        "    pred_iou[i]=cur_iou\n",
        "    \n",
        "    \n",
        "d_worst=np.amin(pred_dice)\n",
        "d_best=np.amax(pred_dice)\n",
        "d_mean=np.mean(pred_dice)\n",
        "d_std=np.std(pred_dice)\n",
        "print(\"Dice mean=\",d_mean, \" Std=\",d_std, \" best=\",d_best,\" worst=\",d_worst)\n",
        "\n",
        "i_worst=np.amin(pred_iou)\n",
        "i_best=np.amax(pred_iou)\n",
        "i_mean=np.mean(pred_iou)\n",
        "i_std=np.std(pred_iou)\n",
        "print(\"IOU mean=\",i_mean, \" Std=\",i_std, \" best=\",i_best,\" worst=\",i_worst)\n",
        "\n",
        "ix_best=np.argmax(pred_dice)\n",
        "ix_worst=np.argmin(pred_dice)\n",
        "\n",
        "j=0\n",
        "for i in [ix_best,ix_worst]:\n",
        "    print('image #{}'.format(i))\n",
        "    img = X_test_dri[i]\n",
        "    pred = predv1[i]\n",
        "    corr = corrv[i]\n",
        "    \n",
        "    print(pred_dice[i])\n",
        "    fig = plt.figure(figsize=(9, 4))\n",
        "    ax = fig.add_subplot(1, 3, 1)\n",
        "    edgesp = canny(pred)\n",
        "    edgesp=1.0-dilation(edgesp)\n",
        "    edgesp = color.gray2rgb(1.0*edgesp)\n",
        "    ax.imshow(img*edgesp)\n",
        "    ax.set_title('Predicted')\n",
        "    ax = fig.add_subplot(1, 3, 2)\n",
        "    edgesc = canny(corr)\n",
        "    edgesc=1.0-dilation(edgesc)\n",
        "    edgesc = color.gray2rgb(1.0*edgesc)\n",
        "    ax.imshow(img*edgesc)\n",
        "    \n",
        "    ax.set_title('Correct')\n",
        "    ax = fig.add_subplot(1, 3, 3)\n",
        "    #ax.imshow(img)\n",
        "    ax.imshow(img)\n",
        "    ax.set_title('Image')\n",
        "    #plt.show()\n",
        "    fig.savefig(os.path.join('/content/gdrive/My Drive/FIG','imgRIM'+str(j)+name+'.png'),dpi=600)\n",
        "    j+=1\n",
        "    \n"
      ],
      "execution_count": 55,
      "outputs": [
        {
          "output_type": "stream",
          "text": [
            "(13, 128, 128, 3)\n"
          ],
          "name": "stdout"
        },
        {
          "output_type": "stream",
          "text": [
            "/usr/local/lib/python3.6/dist-packages/ipykernel_launcher.py:16: TqdmDeprecationWarning: This function will be removed in tqdm==5.0.0\n",
            "Please use `tqdm.notebook.tqdm` instead of `tqdm.tqdm_notebook`\n",
            "  app.launch_new_instance()\n"
          ],
          "name": "stderr"
        },
        {
          "output_type": "display_data",
          "data": {
            "application/vnd.jupyter.widget-view+json": {
              "model_id": "aefd565bd5404eea8983b53b81afa62b",
              "version_minor": 0,
              "version_major": 2
            },
            "text/plain": [
              "HBox(children=(FloatProgress(value=0.0, max=13.0), HTML(value='')))"
            ]
          },
          "metadata": {
            "tags": []
          }
        },
        {
          "output_type": "stream",
          "text": [
            "\n",
            "Dice mean= 0.88112056  Std= 0.08816821  best= 0.9663544  worst= 0.6183527\n",
            "IOU mean= 0.7973583  Std= 0.12576649  best= 0.9348992  worst= 0.44754744\n",
            "image #12\n",
            "0.9663544\n",
            "image #3\n",
            "0.6183527\n"
          ],
          "name": "stdout"
        },
        {
          "output_type": "display_data",
          "data": {
            "image/png": "[encoded data removed]",
            "text/plain": [
              "<Figure size 648x288 with 3 Axes>"
            ]
          },
          "metadata": {
            "tags": [],
            "needs_background": "light"
          }
        },
        {
          "output_type": "display_data",
          "data": {
            "image/png": "[encoded data removed]",
            "text/plain": [
              "<Figure size 648x288 with 3 Axes>"
            ]
          },
          "metadata": {
            "tags": [],
            "needs_background": "light"
          }
        }
      ]
    },
    {
      "cell_type": "code",
      "metadata": {
        "id": "Gw7jMmuFjSvu",
        "colab_type": "code",
        "colab": {
          "base_uri": "https://localhost:8080/",
          "height": 134,
          "referenced_widgets": [
            "eff227518f874fa29017b0d5b3b464c5",
            "94ca8893358d408d92d87e2e22ac18b6",
            "99d0357078d74ad6a24e6ebbfb4f4887",
            "6d1de35f9f4d42d3aec57132a1c9cc63",
            "b81cf8094dad4325bd6bd9f516a1a000",
            "55312228679c460aab5a67d5daf45f74",
            "8caf6e6afd0b44a2a12e4bc1a6c04ae4",
            "997ab2711bda4e2e9386a9894826937b"
          ]
        },
        "outputId": "66c3d04d-e0f9-40ff-ed6f-41992e0c3708"
      },
      "source": [
        "test_s=predv.shape[0]\n",
        "cup_rr= np.empty((test_s), dtype=np.float32)\n",
        "cup_dc= np.empty((test_s), dtype=np.float32)\n",
        "cup_ac= np.empty((test_s), dtype=np.float32)\n",
        "cup_ap= np.empty((test_s), dtype=np.float32)\n",
        "\n",
        "\n",
        "predc = predv[0, ...].copy()\n",
        "corrc= corrv[0, ...].copy()\n",
        "print (predc.shape)\n",
        "\n",
        "for i in tqdm_notebook(range(test_s), leave=True):\n",
        "    \n",
        "    predc = predv1[i]\n",
        "    corrc = corrv[i]\n",
        "    \n",
        "    label_pc = skimage.measure.label(predc, connectivity=predc.ndim)\n",
        "    props_pc = skimage.measure.regionprops(label_pc)\n",
        "    \n",
        "    label_cc = skimage.measure.label(corrc, connectivity=corrc.ndim)\n",
        "    props_cc = skimage.measure.regionprops(label_cc)\n",
        "    \n",
        "    sz=len(props_pc)\n",
        "    if(sz)!=0:\n",
        "      areap=[props_pc[i].area for i in range(sz)]\n",
        "      #print(sz,areap)\n",
        "      k=np.argmax(areap)\n",
        "    \n",
        "      xcp = props_pc[k].centroid[0] #x center\n",
        "      ycp = props_pc[k].centroid[1] #y_center\n",
        "      ap = props_pc[k].area\n",
        "    else:\n",
        "      xpc=0\n",
        "      ypc=0\n",
        "      ac=0\n",
        "    \n",
        "    xcc = props_cc[0].centroid[0] #x center\n",
        "    ycc = props_cc[0].centroid[1] #y_center\n",
        "    ac = props_cc[0].area\n",
        "\n",
        "\n",
        "    \n",
        "    if (ap>ac):\n",
        "      ar=ac/ap\n",
        "    else:\n",
        "      ar=ap/ac\n",
        "      \n",
        "    dist=math.sqrt((xcp-xcc)*(xcp-xcc)+(ycp-ycc)*(ycp-ycc))\n",
        "    cup_rr[i]=math.sqrt(ar)\n",
        "    cup_dc[i]=dist\n",
        "    cup_ac[i]=ac\n",
        "    cup_ap[i]=ap"
      ],
      "execution_count": 56,
      "outputs": [
        {
          "output_type": "stream",
          "text": [
            "(128, 128)\n"
          ],
          "name": "stdout"
        },
        {
          "output_type": "stream",
          "text": [
            "/usr/local/lib/python3.6/dist-packages/ipykernel_launcher.py:12: TqdmDeprecationWarning: This function will be removed in tqdm==5.0.0\n",
            "Please use `tqdm.notebook.tqdm` instead of `tqdm.tqdm_notebook`\n",
            "  if sys.path[0] == '':\n"
          ],
          "name": "stderr"
        },
        {
          "output_type": "display_data",
          "data": {
            "application/vnd.jupyter.widget-view+json": {
              "model_id": "eff227518f874fa29017b0d5b3b464c5",
              "version_minor": 0,
              "version_major": 2
            },
            "text/plain": [
              "HBox(children=(FloatProgress(value=0.0, max=13.0), HTML(value='')))"
            ]
          },
          "metadata": {
            "tags": []
          }
        },
        {
          "output_type": "stream",
          "text": [
            "\n"
          ],
          "name": "stdout"
        }
      ]
    },
    {
      "cell_type": "code",
      "metadata": {
        "id": "wWTx6WMfjTpa",
        "colab_type": "code",
        "colab": {
          "base_uri": "https://localhost:8080/",
          "height": 85
        },
        "outputId": "f5e2a4cf-502b-4a77-e1f9-a554b60151d1"
      },
      "source": [
        "print('Original preds')\n",
        "print('best radii ratio= {:0.2f}, worst radii ratio= {:0.2f}, worst center distance= {:0.2f}, best center distance= {:0.2f}'.format(np.amax(cup_rr),np.amin(cup_rr),np.amax(cup_dc),np.amin(cup_dc)))\n",
        "bt90=cup_rr>.85\n",
        "print('Percentage of images with less than 15% radius error ={:0.2f}'.format(sum(bt90)/test_s))\n",
        "bt90=cup_rr>.9\n",
        "print('Percentage of images with less than 10% radius error ={:0.2f}'.format(sum(bt90)/test_s))"
      ],
      "execution_count": 57,
      "outputs": [
        {
          "output_type": "stream",
          "text": [
            "Original preds\n",
            "best radii ratio= 1.00, worst radii ratio= 0.67, worst center distance= 7.84, best center distance= 0.62\n",
            "Percentage of images with less than 15% radius error =0.85\n",
            "Percentage of images with less than 10% radius error =0.62\n"
          ],
          "name": "stdout"
        }
      ]
    },
    {
      "cell_type": "markdown",
      "metadata": {
        "id": "29V1dTlDjSev",
        "colab_type": "text"
      },
      "source": [
        ""
      ]
    }
  ]
}